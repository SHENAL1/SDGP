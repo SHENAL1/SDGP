{
 "cells": [
  {
   "cell_type": "code",
   "execution_count": 29,
   "metadata": {},
   "outputs": [
    {
     "data": {
      "text/html": [
       "<div>\n",
       "<style scoped>\n",
       "    .dataframe tbody tr th:only-of-type {\n",
       "        vertical-align: middle;\n",
       "    }\n",
       "\n",
       "    .dataframe tbody tr th {\n",
       "        vertical-align: top;\n",
       "    }\n",
       "\n",
       "    .dataframe thead th {\n",
       "        text-align: right;\n",
       "    }\n",
       "</style>\n",
       "<table border=\"1\" class=\"dataframe\">\n",
       "  <thead>\n",
       "    <tr style=\"text-align: right;\">\n",
       "      <th></th>\n",
       "      <th>ID</th>\n",
       "      <th>Name</th>\n",
       "      <th>Age</th>\n",
       "      <th>Nationality</th>\n",
       "      <th>Club</th>\n",
       "      <th>Preferred Foot</th>\n",
       "      <th>Position</th>\n",
       "      <th>Jersey Number</th>\n",
       "      <th>Height</th>\n",
       "      <th>Weight</th>\n",
       "      <th>...</th>\n",
       "      <th>Balance</th>\n",
       "      <th>ShotPower</th>\n",
       "      <th>Jumping</th>\n",
       "      <th>Stamina</th>\n",
       "      <th>Strength</th>\n",
       "      <th>Vision</th>\n",
       "      <th>Penalties</th>\n",
       "      <th>StandingTackle</th>\n",
       "      <th>GKHandling</th>\n",
       "      <th>GKReflexes</th>\n",
       "    </tr>\n",
       "  </thead>\n",
       "  <tbody>\n",
       "    <tr>\n",
       "      <td>0</td>\n",
       "      <td>158023</td>\n",
       "      <td>L. Messi</td>\n",
       "      <td>31</td>\n",
       "      <td>Argentina</td>\n",
       "      <td>FC Barcelona</td>\n",
       "      <td>Left</td>\n",
       "      <td>RF</td>\n",
       "      <td>10.0</td>\n",
       "      <td>5'7</td>\n",
       "      <td>159lbs</td>\n",
       "      <td>...</td>\n",
       "      <td>95.0</td>\n",
       "      <td>85.0</td>\n",
       "      <td>68.0</td>\n",
       "      <td>72.0</td>\n",
       "      <td>59.0</td>\n",
       "      <td>94.0</td>\n",
       "      <td>75.0</td>\n",
       "      <td>28.0</td>\n",
       "      <td>11.0</td>\n",
       "      <td>8.0</td>\n",
       "    </tr>\n",
       "    <tr>\n",
       "      <td>1</td>\n",
       "      <td>20801</td>\n",
       "      <td>Cristiano Ronaldo</td>\n",
       "      <td>33</td>\n",
       "      <td>Portugal</td>\n",
       "      <td>Juventus</td>\n",
       "      <td>Right</td>\n",
       "      <td>ST</td>\n",
       "      <td>7.0</td>\n",
       "      <td>6'2</td>\n",
       "      <td>183lbs</td>\n",
       "      <td>...</td>\n",
       "      <td>70.0</td>\n",
       "      <td>95.0</td>\n",
       "      <td>95.0</td>\n",
       "      <td>88.0</td>\n",
       "      <td>79.0</td>\n",
       "      <td>82.0</td>\n",
       "      <td>85.0</td>\n",
       "      <td>31.0</td>\n",
       "      <td>11.0</td>\n",
       "      <td>11.0</td>\n",
       "    </tr>\n",
       "    <tr>\n",
       "      <td>2</td>\n",
       "      <td>190871</td>\n",
       "      <td>Neymar Jr</td>\n",
       "      <td>26</td>\n",
       "      <td>Brazil</td>\n",
       "      <td>Paris Saint-Germain</td>\n",
       "      <td>Right</td>\n",
       "      <td>LW</td>\n",
       "      <td>10.0</td>\n",
       "      <td>5'9</td>\n",
       "      <td>150lbs</td>\n",
       "      <td>...</td>\n",
       "      <td>84.0</td>\n",
       "      <td>80.0</td>\n",
       "      <td>61.0</td>\n",
       "      <td>81.0</td>\n",
       "      <td>49.0</td>\n",
       "      <td>87.0</td>\n",
       "      <td>81.0</td>\n",
       "      <td>24.0</td>\n",
       "      <td>9.0</td>\n",
       "      <td>11.0</td>\n",
       "    </tr>\n",
       "    <tr>\n",
       "      <td>3</td>\n",
       "      <td>193080</td>\n",
       "      <td>De Gea</td>\n",
       "      <td>27</td>\n",
       "      <td>Spain</td>\n",
       "      <td>Manchester United</td>\n",
       "      <td>Right</td>\n",
       "      <td>GK</td>\n",
       "      <td>1.0</td>\n",
       "      <td>6'4</td>\n",
       "      <td>168lbs</td>\n",
       "      <td>...</td>\n",
       "      <td>43.0</td>\n",
       "      <td>31.0</td>\n",
       "      <td>67.0</td>\n",
       "      <td>43.0</td>\n",
       "      <td>64.0</td>\n",
       "      <td>68.0</td>\n",
       "      <td>40.0</td>\n",
       "      <td>21.0</td>\n",
       "      <td>85.0</td>\n",
       "      <td>94.0</td>\n",
       "    </tr>\n",
       "    <tr>\n",
       "      <td>4</td>\n",
       "      <td>192985</td>\n",
       "      <td>K. De Bruyne</td>\n",
       "      <td>27</td>\n",
       "      <td>Belgium</td>\n",
       "      <td>Manchester City</td>\n",
       "      <td>Right</td>\n",
       "      <td>RCM</td>\n",
       "      <td>7.0</td>\n",
       "      <td>5'11</td>\n",
       "      <td>154lbs</td>\n",
       "      <td>...</td>\n",
       "      <td>77.0</td>\n",
       "      <td>91.0</td>\n",
       "      <td>63.0</td>\n",
       "      <td>90.0</td>\n",
       "      <td>75.0</td>\n",
       "      <td>94.0</td>\n",
       "      <td>79.0</td>\n",
       "      <td>58.0</td>\n",
       "      <td>13.0</td>\n",
       "      <td>13.0</td>\n",
       "    </tr>\n",
       "    <tr>\n",
       "      <td>...</td>\n",
       "      <td>...</td>\n",
       "      <td>...</td>\n",
       "      <td>...</td>\n",
       "      <td>...</td>\n",
       "      <td>...</td>\n",
       "      <td>...</td>\n",
       "      <td>...</td>\n",
       "      <td>...</td>\n",
       "      <td>...</td>\n",
       "      <td>...</td>\n",
       "      <td>...</td>\n",
       "      <td>...</td>\n",
       "      <td>...</td>\n",
       "      <td>...</td>\n",
       "      <td>...</td>\n",
       "      <td>...</td>\n",
       "      <td>...</td>\n",
       "      <td>...</td>\n",
       "      <td>...</td>\n",
       "      <td>...</td>\n",
       "      <td>...</td>\n",
       "    </tr>\n",
       "    <tr>\n",
       "      <td>18202</td>\n",
       "      <td>238813</td>\n",
       "      <td>J. Lundstram</td>\n",
       "      <td>19</td>\n",
       "      <td>England</td>\n",
       "      <td>Crewe Alexandra</td>\n",
       "      <td>Right</td>\n",
       "      <td>CM</td>\n",
       "      <td>22.0</td>\n",
       "      <td>5'9</td>\n",
       "      <td>134lbs</td>\n",
       "      <td>...</td>\n",
       "      <td>76.0</td>\n",
       "      <td>43.0</td>\n",
       "      <td>55.0</td>\n",
       "      <td>40.0</td>\n",
       "      <td>47.0</td>\n",
       "      <td>52.0</td>\n",
       "      <td>43.0</td>\n",
       "      <td>48.0</td>\n",
       "      <td>13.0</td>\n",
       "      <td>9.0</td>\n",
       "    </tr>\n",
       "    <tr>\n",
       "      <td>18203</td>\n",
       "      <td>243165</td>\n",
       "      <td>N. Christoffersson</td>\n",
       "      <td>19</td>\n",
       "      <td>Sweden</td>\n",
       "      <td>Trelleborgs FF</td>\n",
       "      <td>Right</td>\n",
       "      <td>ST</td>\n",
       "      <td>21.0</td>\n",
       "      <td>6'3</td>\n",
       "      <td>170lbs</td>\n",
       "      <td>...</td>\n",
       "      <td>52.0</td>\n",
       "      <td>41.0</td>\n",
       "      <td>47.0</td>\n",
       "      <td>43.0</td>\n",
       "      <td>67.0</td>\n",
       "      <td>33.0</td>\n",
       "      <td>43.0</td>\n",
       "      <td>15.0</td>\n",
       "      <td>9.0</td>\n",
       "      <td>12.0</td>\n",
       "    </tr>\n",
       "    <tr>\n",
       "      <td>18204</td>\n",
       "      <td>241638</td>\n",
       "      <td>B. Worman</td>\n",
       "      <td>16</td>\n",
       "      <td>England</td>\n",
       "      <td>Cambridge United</td>\n",
       "      <td>Right</td>\n",
       "      <td>ST</td>\n",
       "      <td>33.0</td>\n",
       "      <td>5'8</td>\n",
       "      <td>148lbs</td>\n",
       "      <td>...</td>\n",
       "      <td>58.0</td>\n",
       "      <td>45.0</td>\n",
       "      <td>60.0</td>\n",
       "      <td>55.0</td>\n",
       "      <td>32.0</td>\n",
       "      <td>43.0</td>\n",
       "      <td>55.0</td>\n",
       "      <td>13.0</td>\n",
       "      <td>5.0</td>\n",
       "      <td>13.0</td>\n",
       "    </tr>\n",
       "    <tr>\n",
       "      <td>18205</td>\n",
       "      <td>246268</td>\n",
       "      <td>D. Walker-Rice</td>\n",
       "      <td>17</td>\n",
       "      <td>England</td>\n",
       "      <td>Tranmere Rovers</td>\n",
       "      <td>Right</td>\n",
       "      <td>RW</td>\n",
       "      <td>34.0</td>\n",
       "      <td>5'10</td>\n",
       "      <td>154lbs</td>\n",
       "      <td>...</td>\n",
       "      <td>71.0</td>\n",
       "      <td>64.0</td>\n",
       "      <td>42.0</td>\n",
       "      <td>40.0</td>\n",
       "      <td>48.0</td>\n",
       "      <td>47.0</td>\n",
       "      <td>50.0</td>\n",
       "      <td>25.0</td>\n",
       "      <td>6.0</td>\n",
       "      <td>9.0</td>\n",
       "    </tr>\n",
       "    <tr>\n",
       "      <td>18206</td>\n",
       "      <td>246269</td>\n",
       "      <td>G. Nugent</td>\n",
       "      <td>16</td>\n",
       "      <td>England</td>\n",
       "      <td>Tranmere Rovers</td>\n",
       "      <td>Right</td>\n",
       "      <td>CM</td>\n",
       "      <td>33.0</td>\n",
       "      <td>5'10</td>\n",
       "      <td>176lbs</td>\n",
       "      <td>...</td>\n",
       "      <td>63.0</td>\n",
       "      <td>43.0</td>\n",
       "      <td>62.0</td>\n",
       "      <td>47.0</td>\n",
       "      <td>60.0</td>\n",
       "      <td>49.0</td>\n",
       "      <td>33.0</td>\n",
       "      <td>43.0</td>\n",
       "      <td>15.0</td>\n",
       "      <td>9.0</td>\n",
       "    </tr>\n",
       "  </tbody>\n",
       "</table>\n",
       "<p>18207 rows × 26 columns</p>\n",
       "</div>"
      ],
      "text/plain": [
       "           ID                Name  Age Nationality                 Club  \\\n",
       "0      158023            L. Messi   31   Argentina         FC Barcelona   \n",
       "1       20801   Cristiano Ronaldo   33    Portugal             Juventus   \n",
       "2      190871           Neymar Jr   26      Brazil  Paris Saint-Germain   \n",
       "3      193080              De Gea   27       Spain    Manchester United   \n",
       "4      192985        K. De Bruyne   27     Belgium      Manchester City   \n",
       "...       ...                 ...  ...         ...                  ...   \n",
       "18202  238813        J. Lundstram   19     England      Crewe Alexandra   \n",
       "18203  243165  N. Christoffersson   19      Sweden       Trelleborgs FF   \n",
       "18204  241638           B. Worman   16     England     Cambridge United   \n",
       "18205  246268      D. Walker-Rice   17     England      Tranmere Rovers   \n",
       "18206  246269           G. Nugent   16     England      Tranmere Rovers   \n",
       "\n",
       "      Preferred Foot Position  Jersey Number Height  Weight  ...  Balance  \\\n",
       "0               Left       RF           10.0    5'7  159lbs  ...     95.0   \n",
       "1              Right       ST            7.0    6'2  183lbs  ...     70.0   \n",
       "2              Right       LW           10.0    5'9  150lbs  ...     84.0   \n",
       "3              Right       GK            1.0    6'4  168lbs  ...     43.0   \n",
       "4              Right      RCM            7.0   5'11  154lbs  ...     77.0   \n",
       "...              ...      ...            ...    ...     ...  ...      ...   \n",
       "18202          Right       CM           22.0    5'9  134lbs  ...     76.0   \n",
       "18203          Right       ST           21.0    6'3  170lbs  ...     52.0   \n",
       "18204          Right       ST           33.0    5'8  148lbs  ...     58.0   \n",
       "18205          Right       RW           34.0   5'10  154lbs  ...     71.0   \n",
       "18206          Right       CM           33.0   5'10  176lbs  ...     63.0   \n",
       "\n",
       "       ShotPower  Jumping  Stamina  Strength  Vision  Penalties  \\\n",
       "0           85.0     68.0     72.0      59.0    94.0       75.0   \n",
       "1           95.0     95.0     88.0      79.0    82.0       85.0   \n",
       "2           80.0     61.0     81.0      49.0    87.0       81.0   \n",
       "3           31.0     67.0     43.0      64.0    68.0       40.0   \n",
       "4           91.0     63.0     90.0      75.0    94.0       79.0   \n",
       "...          ...      ...      ...       ...     ...        ...   \n",
       "18202       43.0     55.0     40.0      47.0    52.0       43.0   \n",
       "18203       41.0     47.0     43.0      67.0    33.0       43.0   \n",
       "18204       45.0     60.0     55.0      32.0    43.0       55.0   \n",
       "18205       64.0     42.0     40.0      48.0    47.0       50.0   \n",
       "18206       43.0     62.0     47.0      60.0    49.0       33.0   \n",
       "\n",
       "       StandingTackle  GKHandling  GKReflexes  \n",
       "0                28.0        11.0         8.0  \n",
       "1                31.0        11.0        11.0  \n",
       "2                24.0         9.0        11.0  \n",
       "3                21.0        85.0        94.0  \n",
       "4                58.0        13.0        13.0  \n",
       "...               ...         ...         ...  \n",
       "18202            48.0        13.0         9.0  \n",
       "18203            15.0         9.0        12.0  \n",
       "18204            13.0         5.0        13.0  \n",
       "18205            25.0         6.0         9.0  \n",
       "18206            43.0        15.0         9.0  \n",
       "\n",
       "[18207 rows x 26 columns]"
      ]
     },
     "execution_count": 29,
     "metadata": {},
     "output_type": "execute_result"
    }
   ],
   "source": [
    "import pandas as pd\n",
    "import numpy as np\n",
    "import seaborn as sns\n",
    "import matplotlib.pyplot as plt\n",
    "%matplotlib inline\n",
    "import math\n",
    "\n",
    "\n",
    "\n",
    "football_data=pd.read_csv(\"StrikerDataset.csv\")\n",
    "football_data[['ID','Name','Age','Nationality','Club','Preferred Foot','Position','Jersey Number','Height','Weight','ShortPassing','FKAccuracy','LongPassing','BallControl','Acceleration',\n",
    "              'Agility','Balance','ShotPower','Jumping','Stamina','Strength','Vision','Penalties','StandingTackle','GKHandling','GKReflexes']]\n",
    "\n"
   ]
  },
  {
   "cell_type": "code",
   "execution_count": 31,
   "metadata": {},
   "outputs": [
    {
     "name": "stdout",
     "output_type": "stream",
     "text": [
      "Number of players:18207\n"
     ]
    }
   ],
   "source": [
    "print(\"Number of players:\" + str(len(football_data.index)))"
   ]
  },
  {
   "cell_type": "code",
   "execution_count": 35,
   "metadata": {},
   "outputs": [
    {
     "ename": "AttributeError",
     "evalue": "module 'seaborn' has no attribute 'countpolt'",
     "output_type": "error",
     "traceback": [
      "\u001b[1;31m---------------------------------------------------------------------------\u001b[0m",
      "\u001b[1;31mAttributeError\u001b[0m                            Traceback (most recent call last)",
      "\u001b[1;32m<ipython-input-35-6df02e28ff22>\u001b[0m in \u001b[0;36m<module>\u001b[1;34m\u001b[0m\n\u001b[0;32m      1\u001b[0m \u001b[1;31m#Analizing data\u001b[0m\u001b[1;33m\u001b[0m\u001b[1;33m\u001b[0m\u001b[1;33m\u001b[0m\u001b[0m\n\u001b[1;32m----> 2\u001b[1;33m \u001b[0msns\u001b[0m\u001b[1;33m.\u001b[0m\u001b[0mcountpolt\u001b[0m\u001b[1;33m(\u001b[0m\u001b[0mx\u001b[0m\u001b[1;33m=\u001b[0m\u001b[1;34m\"Age\"\u001b[0m\u001b[1;33m,\u001b[0m\u001b[0mdata\u001b[0m\u001b[1;33m=\u001b[0m\u001b[0mfootball_data\u001b[0m\u001b[1;33m)\u001b[0m\u001b[1;33m\u001b[0m\u001b[1;33m\u001b[0m\u001b[0m\n\u001b[0m",
      "\u001b[1;31mAttributeError\u001b[0m: module 'seaborn' has no attribute 'countpolt'"
     ]
    }
   ],
   "source": [
    "#Analizing data\n",
    "sns.countpolt(x=\"PreferredFoot\",data=football_data)"
   ]
  },
  {
   "cell_type": "code",
   "execution_count": 36,
   "metadata": {},
   "outputs": [
    {
     "data": {
      "text/plain": [
       "<matplotlib.axes._subplots.AxesSubplot at 0x2610bb52208>"
      ]
     },
     "execution_count": 36,
     "metadata": {},
     "output_type": "execute_result"
    },
    {
     "data": {
      "image/png": "[encoded data removed]",
      "text/plain": [
       "<Figure size 432x288 with 1 Axes>"
      ]
     },
     "metadata": {
      "needs_background": "light"
     },
     "output_type": "display_data"
    }
   ],
   "source": [
    "football_data[\"Age\"].plot.hist()"
   ]
  },
  {
   "cell_type": "code",
   "execution_count": 41,
   "metadata": {},
   "outputs": [
    {
     "name": "stdout",
     "output_type": "stream",
     "text": [
      "<class 'pandas.core.frame.DataFrame'>\n",
      "RangeIndex: 18207 entries, 0 to 18206\n",
      "Data columns (total 37 columns):\n",
      "Unnamed: 0              18207 non-null int64\n",
      "ID                      18207 non-null int64\n",
      "Name                    18207 non-null object\n",
      "Age                     18207 non-null int64\n",
      "Photo                   18207 non-null object\n",
      "Nationality             18207 non-null object\n",
      "Club                    17966 non-null object\n",
      "Value                   18207 non-null object\n",
      "Wage                    18207 non-null object\n",
      "Preferred Foot          18159 non-null object\n",
      "Position                18147 non-null object\n",
      "Jersey Number           18147 non-null float64\n",
      "Joined                  16654 non-null object\n",
      "Contract Valid Until    17918 non-null object\n",
      "Height                  18159 non-null object\n",
      "Weight                  18159 non-null object\n",
      "ShortPassing            18159 non-null float64\n",
      "FKAccuracy              18159 non-null float64\n",
      "LongPassing             18159 non-null float64\n",
      "BallControl             18159 non-null float64\n",
      "Acceleration            18159 non-null float64\n",
      "SprintSpeed             18159 non-null float64\n",
      "Agility                 18159 non-null float64\n",
      "Reactions               18159 non-null float64\n",
      "Balance                 18159 non-null float64\n",
      "ShotPower               18159 non-null float64\n",
      "Jumping                 18159 non-null float64\n",
      "Stamina                 18159 non-null float64\n",
      "Strength                18159 non-null float64\n",
      "LongShots               18159 non-null float64\n",
      "Aggression              18159 non-null float64\n",
      "Interceptions           18159 non-null float64\n",
      "Vision                  18159 non-null float64\n",
      "Penalties               18159 non-null float64\n",
      "StandingTackle          18159 non-null float64\n",
      "GKHandling              18159 non-null float64\n",
      "GKReflexes              18159 non-null float64\n",
      "dtypes: float64(22), int64(3), object(12)\n",
      "memory usage: 5.1+ MB\n"
     ]
    }
   ],
   "source": [
    "football_data.info()"
   ]
  },
  {
   "cell_type": "code",
   "execution_count": 48,
   "metadata": {},
   "outputs": [
    {
     "data": {
      "text/plain": [
       "<matplotlib.axes._subplots.AxesSubplot at 0x261113567c8>"
      ]
     },
     "execution_count": 48,
     "metadata": {},
     "output_type": "execute_result"
    },
    {
     "data": {
      "image/png": "[encoded data removed]",
      "text/plain": [
       "<Figure size 432x288 with 1 Axes>"
      ]
     },
     "metadata": {
      "needs_background": "light"
     },
     "output_type": "display_data"
    }
   ],
   "source": [
    "sns.countplot(x=\"Height\",data=football_data)"
   ]
  },
  {
   "cell_type": "code",
   "execution_count": 49,
   "metadata": {},
   "outputs": [
    {
     "data": {
      "text/html": [
       "<div>\n",
       "<style scoped>\n",
       "    .dataframe tbody tr th:only-of-type {\n",
       "        vertical-align: middle;\n",
       "    }\n",
       "\n",
       "    .dataframe tbody tr th {\n",
       "        vertical-align: top;\n",
       "    }\n",
       "\n",
       "    .dataframe thead th {\n",
       "        text-align: right;\n",
       "    }\n",
       "</style>\n",
       "<table border=\"1\" class=\"dataframe\">\n",
       "  <thead>\n",
       "    <tr style=\"text-align: right;\">\n",
       "      <th></th>\n",
       "      <th>Unnamed: 0</th>\n",
       "      <th>ID</th>\n",
       "      <th>Name</th>\n",
       "      <th>Age</th>\n",
       "      <th>Photo</th>\n",
       "      <th>Nationality</th>\n",
       "      <th>Club</th>\n",
       "      <th>Value</th>\n",
       "      <th>Wage</th>\n",
       "      <th>Preferred Foot</th>\n",
       "      <th>...</th>\n",
       "      <th>Stamina</th>\n",
       "      <th>Strength</th>\n",
       "      <th>LongShots</th>\n",
       "      <th>Aggression</th>\n",
       "      <th>Interceptions</th>\n",
       "      <th>Vision</th>\n",
       "      <th>Penalties</th>\n",
       "      <th>StandingTackle</th>\n",
       "      <th>GKHandling</th>\n",
       "      <th>GKReflexes</th>\n",
       "    </tr>\n",
       "  </thead>\n",
       "  <tbody>\n",
       "    <tr>\n",
       "      <td>0</td>\n",
       "      <td>False</td>\n",
       "      <td>False</td>\n",
       "      <td>False</td>\n",
       "      <td>False</td>\n",
       "      <td>False</td>\n",
       "      <td>False</td>\n",
       "      <td>False</td>\n",
       "      <td>False</td>\n",
       "      <td>False</td>\n",
       "      <td>False</td>\n",
       "      <td>...</td>\n",
       "      <td>False</td>\n",
       "      <td>False</td>\n",
       "      <td>False</td>\n",
       "      <td>False</td>\n",
       "      <td>False</td>\n",
       "      <td>False</td>\n",
       "      <td>False</td>\n",
       "      <td>False</td>\n",
       "      <td>False</td>\n",
       "      <td>False</td>\n",
       "    </tr>\n",
       "    <tr>\n",
       "      <td>1</td>\n",
       "      <td>False</td>\n",
       "      <td>False</td>\n",
       "      <td>False</td>\n",
       "      <td>False</td>\n",
       "      <td>False</td>\n",
       "      <td>False</td>\n",
       "      <td>False</td>\n",
       "      <td>False</td>\n",
       "      <td>False</td>\n",
       "      <td>False</td>\n",
       "      <td>...</td>\n",
       "      <td>False</td>\n",
       "      <td>False</td>\n",
       "      <td>False</td>\n",
       "      <td>False</td>\n",
       "      <td>False</td>\n",
       "      <td>False</td>\n",
       "      <td>False</td>\n",
       "      <td>False</td>\n",
       "      <td>False</td>\n",
       "      <td>False</td>\n",
       "    </tr>\n",
       "    <tr>\n",
       "      <td>2</td>\n",
       "      <td>False</td>\n",
       "      <td>False</td>\n",
       "      <td>False</td>\n",
       "      <td>False</td>\n",
       "      <td>False</td>\n",
       "      <td>False</td>\n",
       "      <td>False</td>\n",
       "      <td>False</td>\n",
       "      <td>False</td>\n",
       "      <td>False</td>\n",
       "      <td>...</td>\n",
       "      <td>False</td>\n",
       "      <td>False</td>\n",
       "      <td>False</td>\n",
       "      <td>False</td>\n",
       "      <td>False</td>\n",
       "      <td>False</td>\n",
       "      <td>False</td>\n",
       "      <td>False</td>\n",
       "      <td>False</td>\n",
       "      <td>False</td>\n",
       "    </tr>\n",
       "    <tr>\n",
       "      <td>3</td>\n",
       "      <td>False</td>\n",
       "      <td>False</td>\n",
       "      <td>False</td>\n",
       "      <td>False</td>\n",
       "      <td>False</td>\n",
       "      <td>False</td>\n",
       "      <td>False</td>\n",
       "      <td>False</td>\n",
       "      <td>False</td>\n",
       "      <td>False</td>\n",
       "      <td>...</td>\n",
       "      <td>False</td>\n",
       "      <td>False</td>\n",
       "      <td>False</td>\n",
       "      <td>False</td>\n",
       "      <td>False</td>\n",
       "      <td>False</td>\n",
       "      <td>False</td>\n",
       "      <td>False</td>\n",
       "      <td>False</td>\n",
       "      <td>False</td>\n",
       "    </tr>\n",
       "    <tr>\n",
       "      <td>4</td>\n",
       "      <td>False</td>\n",
       "      <td>False</td>\n",
       "      <td>False</td>\n",
       "      <td>False</td>\n",
       "      <td>False</td>\n",
       "      <td>False</td>\n",
       "      <td>False</td>\n",
       "      <td>False</td>\n",
       "      <td>False</td>\n",
       "      <td>False</td>\n",
       "      <td>...</td>\n",
       "      <td>False</td>\n",
       "      <td>False</td>\n",
       "      <td>False</td>\n",
       "      <td>False</td>\n",
       "      <td>False</td>\n",
       "      <td>False</td>\n",
       "      <td>False</td>\n",
       "      <td>False</td>\n",
       "      <td>False</td>\n",
       "      <td>False</td>\n",
       "    </tr>\n",
       "    <tr>\n",
       "      <td>...</td>\n",
       "      <td>...</td>\n",
       "      <td>...</td>\n",
       "      <td>...</td>\n",
       "      <td>...</td>\n",
       "      <td>...</td>\n",
       "      <td>...</td>\n",
       "      <td>...</td>\n",
       "      <td>...</td>\n",
       "      <td>...</td>\n",
       "      <td>...</td>\n",
       "      <td>...</td>\n",
       "      <td>...</td>\n",
       "      <td>...</td>\n",
       "      <td>...</td>\n",
       "      <td>...</td>\n",
       "      <td>...</td>\n",
       "      <td>...</td>\n",
       "      <td>...</td>\n",
       "      <td>...</td>\n",
       "      <td>...</td>\n",
       "      <td>...</td>\n",
       "    </tr>\n",
       "    <tr>\n",
       "      <td>18202</td>\n",
       "      <td>False</td>\n",
       "      <td>False</td>\n",
       "      <td>False</td>\n",
       "      <td>False</td>\n",
       "      <td>False</td>\n",
       "      <td>False</td>\n",
       "      <td>False</td>\n",
       "      <td>False</td>\n",
       "      <td>False</td>\n",
       "      <td>False</td>\n",
       "      <td>...</td>\n",
       "      <td>False</td>\n",
       "      <td>False</td>\n",
       "      <td>False</td>\n",
       "      <td>False</td>\n",
       "      <td>False</td>\n",
       "      <td>False</td>\n",
       "      <td>False</td>\n",
       "      <td>False</td>\n",
       "      <td>False</td>\n",
       "      <td>False</td>\n",
       "    </tr>\n",
       "    <tr>\n",
       "      <td>18203</td>\n",
       "      <td>False</td>\n",
       "      <td>False</td>\n",
       "      <td>False</td>\n",
       "      <td>False</td>\n",
       "      <td>False</td>\n",
       "      <td>False</td>\n",
       "      <td>False</td>\n",
       "      <td>False</td>\n",
       "      <td>False</td>\n",
       "      <td>False</td>\n",
       "      <td>...</td>\n",
       "      <td>False</td>\n",
       "      <td>False</td>\n",
       "      <td>False</td>\n",
       "      <td>False</td>\n",
       "      <td>False</td>\n",
       "      <td>False</td>\n",
       "      <td>False</td>\n",
       "      <td>False</td>\n",
       "      <td>False</td>\n",
       "      <td>False</td>\n",
       "    </tr>\n",
       "    <tr>\n",
       "      <td>18204</td>\n",
       "      <td>False</td>\n",
       "      <td>False</td>\n",
       "      <td>False</td>\n",
       "      <td>False</td>\n",
       "      <td>False</td>\n",
       "      <td>False</td>\n",
       "      <td>False</td>\n",
       "      <td>False</td>\n",
       "      <td>False</td>\n",
       "      <td>False</td>\n",
       "      <td>...</td>\n",
       "      <td>False</td>\n",
       "      <td>False</td>\n",
       "      <td>False</td>\n",
       "      <td>False</td>\n",
       "      <td>False</td>\n",
       "      <td>False</td>\n",
       "      <td>False</td>\n",
       "      <td>False</td>\n",
       "      <td>False</td>\n",
       "      <td>False</td>\n",
       "    </tr>\n",
       "    <tr>\n",
       "      <td>18205</td>\n",
       "      <td>False</td>\n",
       "      <td>False</td>\n",
       "      <td>False</td>\n",
       "      <td>False</td>\n",
       "      <td>False</td>\n",
       "      <td>False</td>\n",
       "      <td>False</td>\n",
       "      <td>False</td>\n",
       "      <td>False</td>\n",
       "      <td>False</td>\n",
       "      <td>...</td>\n",
       "      <td>False</td>\n",
       "      <td>False</td>\n",
       "      <td>False</td>\n",
       "      <td>False</td>\n",
       "      <td>False</td>\n",
       "      <td>False</td>\n",
       "      <td>False</td>\n",
       "      <td>False</td>\n",
       "      <td>False</td>\n",
       "      <td>False</td>\n",
       "    </tr>\n",
       "    <tr>\n",
       "      <td>18206</td>\n",
       "      <td>False</td>\n",
       "      <td>False</td>\n",
       "      <td>False</td>\n",
       "      <td>False</td>\n",
       "      <td>False</td>\n",
       "      <td>False</td>\n",
       "      <td>False</td>\n",
       "      <td>False</td>\n",
       "      <td>False</td>\n",
       "      <td>False</td>\n",
       "      <td>...</td>\n",
       "      <td>False</td>\n",
       "      <td>False</td>\n",
       "      <td>False</td>\n",
       "      <td>False</td>\n",
       "      <td>False</td>\n",
       "      <td>False</td>\n",
       "      <td>False</td>\n",
       "      <td>False</td>\n",
       "      <td>False</td>\n",
       "      <td>False</td>\n",
       "    </tr>\n",
       "  </tbody>\n",
       "</table>\n",
       "<p>18207 rows × 37 columns</p>\n",
       "</div>"
      ],
      "text/plain": [
       "       Unnamed: 0     ID   Name    Age  Photo  Nationality   Club  Value  \\\n",
       "0           False  False  False  False  False        False  False  False   \n",
       "1           False  False  False  False  False        False  False  False   \n",
       "2           False  False  False  False  False        False  False  False   \n",
       "3           False  False  False  False  False        False  False  False   \n",
       "4           False  False  False  False  False        False  False  False   \n",
       "...           ...    ...    ...    ...    ...          ...    ...    ...   \n",
       "18202       False  False  False  False  False        False  False  False   \n",
       "18203       False  False  False  False  False        False  False  False   \n",
       "18204       False  False  False  False  False        False  False  False   \n",
       "18205       False  False  False  False  False        False  False  False   \n",
       "18206       False  False  False  False  False        False  False  False   \n",
       "\n",
       "        Wage  Preferred Foot  ...  Stamina  Strength  LongShots  Aggression  \\\n",
       "0      False           False  ...    False     False      False       False   \n",
       "1      False           False  ...    False     False      False       False   \n",
       "2      False           False  ...    False     False      False       False   \n",
       "3      False           False  ...    False     False      False       False   \n",
       "4      False           False  ...    False     False      False       False   \n",
       "...      ...             ...  ...      ...       ...        ...         ...   \n",
       "18202  False           False  ...    False     False      False       False   \n",
       "18203  False           False  ...    False     False      False       False   \n",
       "18204  False           False  ...    False     False      False       False   \n",
       "18205  False           False  ...    False     False      False       False   \n",
       "18206  False           False  ...    False     False      False       False   \n",
       "\n",
       "       Interceptions  Vision  Penalties  StandingTackle  GKHandling  \\\n",
       "0              False   False      False           False       False   \n",
       "1              False   False      False           False       False   \n",
       "2              False   False      False           False       False   \n",
       "3              False   False      False           False       False   \n",
       "4              False   False      False           False       False   \n",
       "...              ...     ...        ...             ...         ...   \n",
       "18202          False   False      False           False       False   \n",
       "18203          False   False      False           False       False   \n",
       "18204          False   False      False           False       False   \n",
       "18205          False   False      False           False       False   \n",
       "18206          False   False      False           False       False   \n",
       "\n",
       "       GKReflexes  \n",
       "0           False  \n",
       "1           False  \n",
       "2           False  \n",
       "3           False  \n",
       "4           False  \n",
       "...           ...  \n",
       "18202       False  \n",
       "18203       False  \n",
       "18204       False  \n",
       "18205       False  \n",
       "18206       False  \n",
       "\n",
       "[18207 rows x 37 columns]"
      ]
     },
     "execution_count": 49,
     "metadata": {},
     "output_type": "execute_result"
    }
   ],
   "source": [
    "#Data wrangling\n",
    "football_data.isnull()"
   ]
  },
  {
   "cell_type": "code",
   "execution_count": 50,
   "metadata": {},
   "outputs": [
    {
     "data": {
      "text/plain": [
       "Unnamed: 0                 0\n",
       "ID                         0\n",
       "Name                       0\n",
       "Age                        0\n",
       "Photo                      0\n",
       "Nationality                0\n",
       "Club                     241\n",
       "Value                      0\n",
       "Wage                       0\n",
       "Preferred Foot            48\n",
       "Position                  60\n",
       "Jersey Number             60\n",
       "Joined                  1553\n",
       "Contract Valid Until     289\n",
       "Height                    48\n",
       "Weight                    48\n",
       "ShortPassing              48\n",
       "FKAccuracy                48\n",
       "LongPassing               48\n",
       "BallControl               48\n",
       "Acceleration              48\n",
       "SprintSpeed               48\n",
       "Agility                   48\n",
       "Reactions                 48\n",
       "Balance                   48\n",
       "ShotPower                 48\n",
       "Jumping                   48\n",
       "Stamina                   48\n",
       "Strength                  48\n",
       "LongShots                 48\n",
       "Aggression                48\n",
       "Interceptions             48\n",
       "Vision                    48\n",
       "Penalties                 48\n",
       "StandingTackle            48\n",
       "GKHandling                48\n",
       "GKReflexes                48\n",
       "dtype: int64"
      ]
     },
     "execution_count": 50,
     "metadata": {},
     "output_type": "execute_result"
    }
   ],
   "source": [
    "football_data.isnull().sum()"
   ]
  },
  {
   "cell_type": "code",
   "execution_count": 52,
   "metadata": {},
   "outputs": [],
   "source": [
    "football_data.dropna(inplace=True)"
   ]
  },
  {
   "cell_type": "code",
   "execution_count": 53,
   "metadata": {},
   "outputs": [
    {
     "data": {
      "text/plain": [
       "Unnamed: 0              0\n",
       "ID                      0\n",
       "Name                    0\n",
       "Age                     0\n",
       "Photo                   0\n",
       "Nationality             0\n",
       "Club                    0\n",
       "Value                   0\n",
       "Wage                    0\n",
       "Preferred Foot          0\n",
       "Position                0\n",
       "Jersey Number           0\n",
       "Joined                  0\n",
       "Contract Valid Until    0\n",
       "Height                  0\n",
       "Weight                  0\n",
       "ShortPassing            0\n",
       "FKAccuracy              0\n",
       "LongPassing             0\n",
       "BallControl             0\n",
       "Acceleration            0\n",
       "SprintSpeed             0\n",
       "Agility                 0\n",
       "Reactions               0\n",
       "Balance                 0\n",
       "ShotPower               0\n",
       "Jumping                 0\n",
       "Stamina                 0\n",
       "Strength                0\n",
       "LongShots               0\n",
       "Aggression              0\n",
       "Interceptions           0\n",
       "Vision                  0\n",
       "Penalties               0\n",
       "StandingTackle          0\n",
       "GKHandling              0\n",
       "GKReflexes              0\n",
       "dtype: int64"
      ]
     },
     "execution_count": 53,
     "metadata": {},
     "output_type": "execute_result"
    }
   ],
   "source": [
    "football_data.isnull().sum()"
   ]
  },
  {
   "cell_type": "code",
   "execution_count": 85,
   "metadata": {},
   "outputs": [
    {
     "data": {
      "text/plain": [
       "<matplotlib.axes._subplots.AxesSubplot at 0x26114a439c8>"
      ]
     },
     "execution_count": 85,
     "metadata": {},
     "output_type": "execute_result"
    },
    {
     "data": {
      "image/png": "[encoded data removed]",
      "text/plain": [
       "<Figure size 720x2304 with 1 Axes>"
      ]
     },
     "metadata": {
      "needs_background": "light"
     },
     "output_type": "display_data"
    }
   ],
   "source": [
    "plt.figure(figsize=(10,32))\n",
    " \n",
    "sns.countplot(y = football_data.Nationality,palette=\"Set2\") #Plot all the nations on Y Axis\n"
   ]
  },
  {
   "cell_type": "code",
   "execution_count": 84,
   "metadata": {},
   "outputs": [
    {
     "data": {
      "text/plain": [
       "<matplotlib.axes._subplots.AxesSubplot at 0x26115714b08>"
      ]
     },
     "execution_count": 84,
     "metadata": {},
     "output_type": "execute_result"
    },
    {
     "data": {
      "image/png": "[encoded data removed]",
      "text/plain": [
       "<Figure size 720x432 with 1 Axes>"
      ]
     },
     "metadata": {
      "needs_background": "light"
     },
     "output_type": "display_data"
    }
   ],
   "source": [
    "plt.figure(figsize=(10,6))\n",
    "sns.countplot(x=\"Position\",data=football_data)"
   ]
  },
  {
   "cell_type": "code",
   "execution_count": 64,
   "metadata": {},
   "outputs": [],
   "source": [
    "#weights\n",
    "a = 0.5\n",
    "b = 1\n",
    "c= 2\n",
    "d = 3\n",
    " \n",
    "#GoalKeeping Characterstics\n",
    "football_data['gk_Shot_Stopper'] = (b*football_data.Reactions + a*football_data.Strength + c*football_data.Jumping + d*football_data.GKReflexes + b*football_data.GKHandling)/(1*a + 2*b + 1*c + 1*d)\n",
    "football_data['gk_Sweeper'] = (b*football_data.Reactions + a*football_data.ShortPassing + a*football_data.LongPassing + b*football_data.Jumping + d*football_data.GKReflexes + b*football_data.GKHandling + c*football_data.Vision)/(2*a + 3*b + 1*c + 1*d)\n"
   ]
  },
  {
   "cell_type": "code",
   "execution_count": 91,
   "metadata": {},
   "outputs": [
    {
     "name": "stdout",
     "output_type": "stream",
     "text": [
      "Top 5 goal keepers:\n"
     ]
    },
    {
     "data": {
      "image/png": "[encoded data removed]",
      "text/plain": [
       "<Figure size 720x432 with 1 Axes>"
      ]
     },
     "metadata": {
      "needs_background": "light"
     },
     "output_type": "display_data"
    },
    {
     "data": {
      "image/png": "[encoded data removed]",
      "text/plain": [
       "<Figure size 720x432 with 1 Axes>"
      ]
     },
     "metadata": {
      "needs_background": "light"
     },
     "output_type": "display_data"
    }
   ],
   "source": [
    "plt.figure(figsize=(10,6))\n",
    " \n",
    "# Generate sequential data and plot\n",
    "sd = football_data.sort_values('gk_Shot_Stopper', ascending=False)[:5]\n",
    "x1 = np.array(list(sd['Name']))\n",
    "y1 = np.array(list(sd['gk_Shot_Stopper']))\n",
    "sns.barplot(x1, y1, palette= \"colorblind\")\n",
    "plt.ylabel(\"Shot Stopping Ratings\")\n",
    "\n",
    "\n",
    "plt.figure(figsize=(10,6))\n",
    "sd = football_data.sort_values('gk_Sweeper', ascending=False)[:5]\n",
    "x2 = np.array(list(sd['Name']))\n",
    "y2 = np.array(list(sd['gk_Sweeper']))\n",
    "sns.barplot(x2, y2, palette= \"colorblind\")\n",
    "plt.ylabel(\"Sweeping Ratings\")\n",
    "print(\"Top 5 goal keepers:\")"
   ]
  },
  {
   "cell_type": "code",
   "execution_count": 81,
   "metadata": {},
   "outputs": [
    {
     "name": "stdout",
     "output_type": "stream",
     "text": [
      "Top 5 left central deffenders:\n"
     ]
    },
    {
     "data": {
      "image/png": "[encoded data removed]",
      "text/plain": [
       "<Figure size 720x432 with 1 Axes>"
      ]
     },
     "metadata": {
      "needs_background": "light"
     },
     "output_type": "display_data"
    }
   ],
   "source": [
    "#Choosing Defenders\n",
    "football_data['df_centre_backs'] = ( d*football_data.Reactions + c*football_data.Interceptions + d*football_data.StandingTackle + b*football_data.Vision+a*football_data.ShortPassing + b*football_data.LongPassing+ c*football_data.Acceleration\n",
    "+ d*football_data.Stamina + d*football_data.Jumping + b*football_data.LongShots+ c*football_data.Aggression+d*football_data.SprintSpeed)/(1*a+3*b + 3*c + 5*d)\n",
    "football_data['df_wb_Wing_Backs'] = (b*football_data.Balance+ d*football_data.StandingTackle + a*football_data.Agility + c*football_data.Vision + b*football_data.ShortPassing + c*football_data.LongPassing + d*football_data.Acceleration +d*football_data.SprintSpeed + c*football_data.Stamina)/(1*a + 2*b + 3*c + 3*d)\n",
    "\n",
    "plt.figure(figsize=(10,6))\n",
    "sd = football_data[(football_data['Position'] == 'LCB')].sort_values('df_centre_backs', ascending=False)[:5]\n",
    "x2 = np.array(list(sd['Name']))\n",
    "y2 = np.array(list(sd['df_centre_backs']))\n",
    "sns.barplot(x2, y2, palette=sns.color_palette(\"Blues_d\"))\n",
    "plt.ylabel(\"LCB Ratings\")\n",
    "print(\"Top 5 left central deffenders:\")\n",
    "\n"
   ]
  },
  {
   "cell_type": "code",
   "execution_count": 83,
   "metadata": {},
   "outputs": [
    {
     "name": "stdout",
     "output_type": "stream",
     "text": [
      "Top 5 Right central deffenders:\n"
     ]
    },
    {
     "data": {
      "image/png": "[encoded data removed]",
      "text/plain": [
       "<Figure size 720x432 with 1 Axes>"
      ]
     },
     "metadata": {
      "needs_background": "light"
     },
     "output_type": "display_data"
    }
   ],
   "source": [
    "plt.figure(figsize=(10,6))\n",
    " \n",
    "sd = football_data[(football_data['Position'] == 'RCB')].sort_values('df_centre_backs', ascending=False)[:5]\n",
    "x2 = np.array(list(sd['Name']))\n",
    "y2 = np.array(list(sd['df_centre_backs']))\n",
    "sns.barplot(x2, y2, palette=sns.color_palette(\"Blues_d\"))\n",
    "plt.ylabel(\"RCB Ratings\")\n",
    "print(\"Top 5 Right central deffenders:\")"
   ]
  },
  {
   "cell_type": "code",
   "execution_count": 88,
   "metadata": {},
   "outputs": [
    {
     "name": "stdout",
     "output_type": "stream",
     "text": [
      "Top 5 Left Wing Backs:\n"
     ]
    },
    {
     "data": {
      "image/png": "[encoded data removed]",
      "text/plain": [
       "<Figure size 720x432 with 1 Axes>"
      ]
     },
     "metadata": {
      "needs_background": "light"
     },
     "output_type": "display_data"
    }
   ],
   "source": [
    "plt.figure(figsize=(10,6))\n",
    " \n",
    "sd = football_data[(football_data['Position'] == 'LWB') | (football_data['Position'] == 'LB')].sort_values('df_wb_Wing_Backs', ascending=False)[:5]\n",
    "x4 = np.array(list(sd['Name']))\n",
    "y4 = np.array(list(sd['df_wb_Wing_Backs']))\n",
    "sns.barplot(x4, y4, palette=sns.color_palette(\"Blues_d\"))\n",
    "plt.ylabel(\"Left Back Ratings\")\n",
    "print(\"Top 5 Left Wing Backs:\")"
   ]
  },
  {
   "cell_type": "code",
   "execution_count": 89,
   "metadata": {},
   "outputs": [
    {
     "name": "stdout",
     "output_type": "stream",
     "text": [
      "Top 5 Right Wing Backs:\n"
     ]
    },
    {
     "data": {
      "image/png": "[encoded data removed]",
      "text/plain": [
       "<Figure size 720x432 with 1 Axes>"
      ]
     },
     "metadata": {
      "needs_background": "light"
     },
     "output_type": "display_data"
    }
   ],
   "source": [
    "plt.figure(figsize=(10,6))\n",
    "sd = football_data[(football_data['Position'] == 'RWB') | (football_data['Position'] == 'RB')].sort_values('df_wb_Wing_Backs', ascending=False)[:5]\n",
    "x5 = np.array(list(sd['Name']))\n",
    "y5 = np.array(list(sd['df_wb_Wing_Backs']))\n",
    "sns.barplot(x5, y5, palette=sns.color_palette(\"Blues_d\"))\n",
    "plt.ylabel(\"Right Back Ratings\")\n",
    "print(\"Top 5 Right Wing Backs:\")"
   ]
  },
  {
   "cell_type": "code",
   "execution_count": 2,
   "metadata": {},
   "outputs": [],
   "source": [
    "#Attackers\n",
    "#football_data['att_left_wing'] = (c*football_data.Preferred Foot + c*football_data.Balance + c*football_data.SprintSpeed + d*football_data.Acceleration + b*football_data.Vision + b*football_data.ShortPassing + b*football_data.LongPassing + b*football_data.Aggression + b*football_data.Agility + c*football_data.LongShots + b*football_data.FKAccuracy)/(6*b + 4*c + 1*d)\n",
    "#football_data['att_right_wing'] = (c*football_data.Preferred Foot + c*football_data.Balance + c*football_data.SprintSpeed + d*football_data.Acceleration + b*football_data.Vision + b*football_data.ShortPassing + b*football_data.LongPassing + b*football_data.Aggression + b*football_data.Agility + c*football_data.LongShots + b*football_data.FKAccuracy)/(6*b + 4*c + 1*d)\n",
    "#football_data['att_striker'] = (b*football_data.Preferred Foot + b*football_data.Balance + a*football_data.Vision + b*football_data.Aggression + b*football_data.Agility + a*football_data.Long_Shots + c*football_data.Jumping + c*football_data.FKAccuracy)/(2*a + 4*b + 2*c)\n",
    "\n",
    "#plt.figure(figsize=(15,6))\n",
    " \n",
    "#ss = football_data[(football_data['Position'] == 'LW') | (football_data['Position'] == 'LM') | (football_data['Position'] == 'LS')].sort_values('att_left_wing', ascending=False)[:5]\n",
    "#x1 = np.array(list(ss['Name']))\n",
    "#y1 = np.array(list(ss['att_left_wing']))\n",
    "#sns.barplot(x1, y1, palette=sns.diverging_palette(255, 133, l=60, n=5, center=\"dark\"))\n",
    "#plt.ylabel(\"Left Wing\")\n",
    "\n",
    "#plt.figure(figsize=(15,6))\n",
    " \n",
    "#ss = football_data[(football_data['Position'] == 'RW') | (football_data['Position'] == 'RM') | (football_data['Position'] == 'RS')].sort_values('att_right_wing', ascending=False)[:5]\n",
    "#x2 = np.array(list(ss['Name']))\n",
    "#y2 = np.array(list(ss['att_right_wing']))\n",
    "#sns.barplot(x2, y2, palette=sns.diverging_palette(255, 133, l=60, n=5, center=\"dark\"))\n",
    "#plt.ylabel(\"Right Wing\")\n",
    "\n",
    "#plt.figure(figsize=(15,6))\n",
    "#ss = football_data[(football_data['Position'] == 'ST') | (football_data['Position'] == 'LS') | (football_data['Position'] == 'RS') | (football_data['Position'] == 'CF')].sort_values('att_striker', ascending=False)[:5]\n",
    "#x3 = np.array(list(ss['Name']))\n",
    "#y3 = np.array(list(ss['att_striker']))\n",
    "#sns.barplot(x3, y3, palette=sns.diverging_palette(255, 133, l=60, n=5, center=\"dark\"))\n",
    "#plt.ylabel(\"Striker ratings\")"
   ]
  },
  {
   "cell_type": "code",
   "execution_count": 3,
   "metadata": {},
   "outputs": [],
   "source": [
    "#Midfielding Indices\n",
    "#football_data['mf_playmaker'] = (d*football_data.Balance+ d*football_data.Reactions + d*football_data.Vision+ d*football_data.ShortPassing + c*football_data.LongPassing + c*football_data.Curve + b*football_data.LongShots + c*football_data.FKAccuracy)/(1*a + 1*b + 3*c + 4*d)\n",
    "#football_data['mf_beast'] = (d*football_data.Agility + c*football_data.Balance + b*football_data.Jumping + c*football_data.Strength + d*football_data.Stamina + a*football_data.SprintSpeed + c*football_data.Acceleration + d*football_data.ShortPassing + c*football_data.Aggression + d*football_data.Reactions + b*football_data.StandingTackle + b*football_data.Interceptions)/(1*a + 5*b + 4*c + 4*d)\n",
    "#football_data['mf_controller'] = (b*football_data.Preferred Foot  + d*football_data.Balance  + a*football_data.Reactions + c*football_data.Vision  + d*football_data.ShortPassing + d*football_data.LongPassing)/(2*c+3*d+4*a)\n",
    "\n",
    "#plt.figure(figsize=(15,6))\n",
    " \n",
    "#ss = football_data[(df['Position'] == 'CAM') | (football_data['Position'] == 'LAM') | (football_data['Position'] == 'RAM')].sort_values('mf_playmaker', ascending=False)[:5]\n",
    "#x3 = np.array(list(ss['Name']))\n",
    "#y3 = np.array(list(ss['mf_playmaker']))\n",
    "#sns.barplot(x3, y3, palette=sns.diverging_palette(145, 280, s=85, l=25, n=5))\n",
    "#plt.ylabel(\"PlayMaker Ratings:\")\n",
    "\n",
    "#plt.figure(figsize=(15,6))\n",
    " \n",
    "#ss = football_data[(football_data['Position'] == 'RCM') | (football_data['Position'] == 'RM')].sort_values('mf_beast', ascending=False)[:5]\n",
    "#x2 = np.array(list(ss['Name']))\n",
    "#y2 = np.array(list(ss['mf_beast']))\n",
    "#sns.barplot(x2, y2, palette=sns.diverging_palette(145, 280, s=85, l=25, n=5))\n",
    "#plt.ylabel(\"Beast Ratings\")\n",
    "\n",
    "#plt.figure(figsize=(15,6))\n",
    " \n",
    "# Generate some sequential data\n",
    "#ss = football_data[(football_data['Position'] == 'LCM') | (football_data['Position'] == 'LM')].sort_values('mf_controller', ascending=False)[:5]\n",
    "#x1 = np.array(list(ss['Name']))\n",
    "#y1 = np.array(list(ss['mf_controller']))\n",
    "#sns.barplot(x1, y1, palette=sns.diverging_palette(145, 280, s=85, l=25, n=5))\n",
    "#plt.ylabel(\"Controller Ratings\")"
   ]
  },
  {
   "cell_type": "code",
   "execution_count": null,
   "metadata": {},
   "outputs": [],
   "source": []
  }
 ],
 "metadata": {
  "kernelspec": {
   "display_name": "Python 3",
   "language": "python",
   "name": "python3"
  },
  "language_info": {
   "codemirror_mode": {
    "name": "ipython",
    "version": 3
   },
   "file_extension": ".py",
   "mimetype": "text/x-python",
   "name": "python",
   "nbconvert_exporter": "python",
   "pygments_lexer": "ipython3",
   "version": "3.7.4"
  }
 },
 "nbformat": 4,
 "nbformat_minor": 2
}
