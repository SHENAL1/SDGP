{
 "cells": [
  {
   "cell_type": "code",
   "execution_count": 1,
   "metadata": {},
   "outputs": [
    {
     "data": {
      "text/html": [
       "<div>\n",
       "<style scoped>\n",
       "    .dataframe tbody tr th:only-of-type {\n",
       "        vertical-align: middle;\n",
       "    }\n",
       "\n",
       "    .dataframe tbody tr th {\n",
       "        vertical-align: top;\n",
       "    }\n",
       "\n",
       "    .dataframe thead th {\n",
       "        text-align: right;\n",
       "    }\n",
       "</style>\n",
       "<table border=\"1\" class=\"dataframe\">\n",
       "  <thead>\n",
       "    <tr style=\"text-align: right;\">\n",
       "      <th></th>\n",
       "      <th>ID</th>\n",
       "      <th>Name</th>\n",
       "      <th>Age</th>\n",
       "      <th>Nationality</th>\n",
       "      <th>Club</th>\n",
       "      <th>Preferred Foot</th>\n",
       "      <th>Position</th>\n",
       "      <th>Jersey Number</th>\n",
       "      <th>Height</th>\n",
       "      <th>Weight</th>\n",
       "      <th>...</th>\n",
       "      <th>Balance</th>\n",
       "      <th>ShotPower</th>\n",
       "      <th>Jumping</th>\n",
       "      <th>Stamina</th>\n",
       "      <th>Strength</th>\n",
       "      <th>Vision</th>\n",
       "      <th>Penalties</th>\n",
       "      <th>StandingTackle</th>\n",
       "      <th>GKHandling</th>\n",
       "      <th>GKReflexes</th>\n",
       "    </tr>\n",
       "  </thead>\n",
       "  <tbody>\n",
       "    <tr>\n",
       "      <td>0</td>\n",
       "      <td>158023</td>\n",
       "      <td>L. Messi</td>\n",
       "      <td>31</td>\n",
       "      <td>Argentina</td>\n",
       "      <td>FC Barcelona</td>\n",
       "      <td>Left</td>\n",
       "      <td>RF</td>\n",
       "      <td>10.0</td>\n",
       "      <td>5'7</td>\n",
       "      <td>159lbs</td>\n",
       "      <td>...</td>\n",
       "      <td>95.0</td>\n",
       "      <td>85.0</td>\n",
       "      <td>68.0</td>\n",
       "      <td>72.0</td>\n",
       "      <td>59.0</td>\n",
       "      <td>94.0</td>\n",
       "      <td>75.0</td>\n",
       "      <td>28.0</td>\n",
       "      <td>11.0</td>\n",
       "      <td>8.0</td>\n",
       "    </tr>\n",
       "    <tr>\n",
       "      <td>1</td>\n",
       "      <td>20801</td>\n",
       "      <td>Cristiano Ronaldo</td>\n",
       "      <td>33</td>\n",
       "      <td>Portugal</td>\n",
       "      <td>Juventus</td>\n",
       "      <td>Right</td>\n",
       "      <td>ST</td>\n",
       "      <td>7.0</td>\n",
       "      <td>6'2</td>\n",
       "      <td>183lbs</td>\n",
       "      <td>...</td>\n",
       "      <td>70.0</td>\n",
       "      <td>95.0</td>\n",
       "      <td>95.0</td>\n",
       "      <td>88.0</td>\n",
       "      <td>79.0</td>\n",
       "      <td>82.0</td>\n",
       "      <td>85.0</td>\n",
       "      <td>31.0</td>\n",
       "      <td>11.0</td>\n",
       "      <td>11.0</td>\n",
       "    </tr>\n",
       "    <tr>\n",
       "      <td>2</td>\n",
       "      <td>190871</td>\n",
       "      <td>Neymar Jr</td>\n",
       "      <td>26</td>\n",
       "      <td>Brazil</td>\n",
       "      <td>Paris Saint-Germain</td>\n",
       "      <td>Right</td>\n",
       "      <td>LW</td>\n",
       "      <td>10.0</td>\n",
       "      <td>5'9</td>\n",
       "      <td>150lbs</td>\n",
       "      <td>...</td>\n",
       "      <td>84.0</td>\n",
       "      <td>80.0</td>\n",
       "      <td>61.0</td>\n",
       "      <td>81.0</td>\n",
       "      <td>49.0</td>\n",
       "      <td>87.0</td>\n",
       "      <td>81.0</td>\n",
       "      <td>24.0</td>\n",
       "      <td>9.0</td>\n",
       "      <td>11.0</td>\n",
       "    </tr>\n",
       "    <tr>\n",
       "      <td>3</td>\n",
       "      <td>193080</td>\n",
       "      <td>De Gea</td>\n",
       "      <td>27</td>\n",
       "      <td>Spain</td>\n",
       "      <td>Manchester United</td>\n",
       "      <td>Right</td>\n",
       "      <td>GK</td>\n",
       "      <td>1.0</td>\n",
       "      <td>6'4</td>\n",
       "      <td>168lbs</td>\n",
       "      <td>...</td>\n",
       "      <td>43.0</td>\n",
       "      <td>31.0</td>\n",
       "      <td>67.0</td>\n",
       "      <td>43.0</td>\n",
       "      <td>64.0</td>\n",
       "      <td>68.0</td>\n",
       "      <td>40.0</td>\n",
       "      <td>21.0</td>\n",
       "      <td>85.0</td>\n",
       "      <td>94.0</td>\n",
       "    </tr>\n",
       "    <tr>\n",
       "      <td>4</td>\n",
       "      <td>192985</td>\n",
       "      <td>K. De Bruyne</td>\n",
       "      <td>27</td>\n",
       "      <td>Belgium</td>\n",
       "      <td>Manchester City</td>\n",
       "      <td>Right</td>\n",
       "      <td>RCM</td>\n",
       "      <td>7.0</td>\n",
       "      <td>5'11</td>\n",
       "      <td>154lbs</td>\n",
       "      <td>...</td>\n",
       "      <td>77.0</td>\n",
       "      <td>91.0</td>\n",
       "      <td>63.0</td>\n",
       "      <td>90.0</td>\n",
       "      <td>75.0</td>\n",
       "      <td>94.0</td>\n",
       "      <td>79.0</td>\n",
       "      <td>58.0</td>\n",
       "      <td>13.0</td>\n",
       "      <td>13.0</td>\n",
       "    </tr>\n",
       "    <tr>\n",
       "      <td>...</td>\n",
       "      <td>...</td>\n",
       "      <td>...</td>\n",
       "      <td>...</td>\n",
       "      <td>...</td>\n",
       "      <td>...</td>\n",
       "      <td>...</td>\n",
       "      <td>...</td>\n",
       "      <td>...</td>\n",
       "      <td>...</td>\n",
       "      <td>...</td>\n",
       "      <td>...</td>\n",
       "      <td>...</td>\n",
       "      <td>...</td>\n",
       "      <td>...</td>\n",
       "      <td>...</td>\n",
       "      <td>...</td>\n",
       "      <td>...</td>\n",
       "      <td>...</td>\n",
       "      <td>...</td>\n",
       "      <td>...</td>\n",
       "      <td>...</td>\n",
       "    </tr>\n",
       "    <tr>\n",
       "      <td>18202</td>\n",
       "      <td>238813</td>\n",
       "      <td>J. Lundstram</td>\n",
       "      <td>19</td>\n",
       "      <td>England</td>\n",
       "      <td>Crewe Alexandra</td>\n",
       "      <td>Right</td>\n",
       "      <td>CM</td>\n",
       "      <td>22.0</td>\n",
       "      <td>5'9</td>\n",
       "      <td>134lbs</td>\n",
       "      <td>...</td>\n",
       "      <td>76.0</td>\n",
       "      <td>43.0</td>\n",
       "      <td>55.0</td>\n",
       "      <td>40.0</td>\n",
       "      <td>47.0</td>\n",
       "      <td>52.0</td>\n",
       "      <td>43.0</td>\n",
       "      <td>48.0</td>\n",
       "      <td>13.0</td>\n",
       "      <td>9.0</td>\n",
       "    </tr>\n",
       "    <tr>\n",
       "      <td>18203</td>\n",
       "      <td>243165</td>\n",
       "      <td>N. Christoffersson</td>\n",
       "      <td>19</td>\n",
       "      <td>Sweden</td>\n",
       "      <td>Trelleborgs FF</td>\n",
       "      <td>Right</td>\n",
       "      <td>ST</td>\n",
       "      <td>21.0</td>\n",
       "      <td>6'3</td>\n",
       "      <td>170lbs</td>\n",
       "      <td>...</td>\n",
       "      <td>52.0</td>\n",
       "      <td>41.0</td>\n",
       "      <td>47.0</td>\n",
       "      <td>43.0</td>\n",
       "      <td>67.0</td>\n",
       "      <td>33.0</td>\n",
       "      <td>43.0</td>\n",
       "      <td>15.0</td>\n",
       "      <td>9.0</td>\n",
       "      <td>12.0</td>\n",
       "    </tr>\n",
       "    <tr>\n",
       "      <td>18204</td>\n",
       "      <td>241638</td>\n",
       "      <td>B. Worman</td>\n",
       "      <td>16</td>\n",
       "      <td>England</td>\n",
       "      <td>Cambridge United</td>\n",
       "      <td>Right</td>\n",
       "      <td>ST</td>\n",
       "      <td>33.0</td>\n",
       "      <td>5'8</td>\n",
       "      <td>148lbs</td>\n",
       "      <td>...</td>\n",
       "      <td>58.0</td>\n",
       "      <td>45.0</td>\n",
       "      <td>60.0</td>\n",
       "      <td>55.0</td>\n",
       "      <td>32.0</td>\n",
       "      <td>43.0</td>\n",
       "      <td>55.0</td>\n",
       "      <td>13.0</td>\n",
       "      <td>5.0</td>\n",
       "      <td>13.0</td>\n",
       "    </tr>\n",
       "    <tr>\n",
       "      <td>18205</td>\n",
       "      <td>246268</td>\n",
       "      <td>D. Walker-Rice</td>\n",
       "      <td>17</td>\n",
       "      <td>England</td>\n",
       "      <td>Tranmere Rovers</td>\n",
       "      <td>Right</td>\n",
       "      <td>RW</td>\n",
       "      <td>34.0</td>\n",
       "      <td>5'10</td>\n",
       "      <td>154lbs</td>\n",
       "      <td>...</td>\n",
       "      <td>71.0</td>\n",
       "      <td>64.0</td>\n",
       "      <td>42.0</td>\n",
       "      <td>40.0</td>\n",
       "      <td>48.0</td>\n",
       "      <td>47.0</td>\n",
       "      <td>50.0</td>\n",
       "      <td>25.0</td>\n",
       "      <td>6.0</td>\n",
       "      <td>9.0</td>\n",
       "    </tr>\n",
       "    <tr>\n",
       "      <td>18206</td>\n",
       "      <td>246269</td>\n",
       "      <td>G. Nugent</td>\n",
       "      <td>16</td>\n",
       "      <td>England</td>\n",
       "      <td>Tranmere Rovers</td>\n",
       "      <td>Right</td>\n",
       "      <td>CM</td>\n",
       "      <td>33.0</td>\n",
       "      <td>5'10</td>\n",
       "      <td>176lbs</td>\n",
       "      <td>...</td>\n",
       "      <td>63.0</td>\n",
       "      <td>43.0</td>\n",
       "      <td>62.0</td>\n",
       "      <td>47.0</td>\n",
       "      <td>60.0</td>\n",
       "      <td>49.0</td>\n",
       "      <td>33.0</td>\n",
       "      <td>43.0</td>\n",
       "      <td>15.0</td>\n",
       "      <td>9.0</td>\n",
       "    </tr>\n",
       "  </tbody>\n",
       "</table>\n",
       "<p>18207 rows × 26 columns</p>\n",
       "</div>"
      ],
      "text/plain": [
       "           ID                Name  Age Nationality                 Club  \\\n",
       "0      158023            L. Messi   31   Argentina         FC Barcelona   \n",
       "1       20801   Cristiano Ronaldo   33    Portugal             Juventus   \n",
       "2      190871           Neymar Jr   26      Brazil  Paris Saint-Germain   \n",
       "3      193080              De Gea   27       Spain    Manchester United   \n",
       "4      192985        K. De Bruyne   27     Belgium      Manchester City   \n",
       "...       ...                 ...  ...         ...                  ...   \n",
       "18202  238813        J. Lundstram   19     England      Crewe Alexandra   \n",
       "18203  243165  N. Christoffersson   19      Sweden       Trelleborgs FF   \n",
       "18204  241638           B. Worman   16     England     Cambridge United   \n",
       "18205  246268      D. Walker-Rice   17     England      Tranmere Rovers   \n",
       "18206  246269           G. Nugent   16     England      Tranmere Rovers   \n",
       "\n",
       "      Preferred Foot Position  Jersey Number Height  Weight  ...  Balance  \\\n",
       "0               Left       RF           10.0    5'7  159lbs  ...     95.0   \n",
       "1              Right       ST            7.0    6'2  183lbs  ...     70.0   \n",
       "2              Right       LW           10.0    5'9  150lbs  ...     84.0   \n",
       "3              Right       GK            1.0    6'4  168lbs  ...     43.0   \n",
       "4              Right      RCM            7.0   5'11  154lbs  ...     77.0   \n",
       "...              ...      ...            ...    ...     ...  ...      ...   \n",
       "18202          Right       CM           22.0    5'9  134lbs  ...     76.0   \n",
       "18203          Right       ST           21.0    6'3  170lbs  ...     52.0   \n",
       "18204          Right       ST           33.0    5'8  148lbs  ...     58.0   \n",
       "18205          Right       RW           34.0   5'10  154lbs  ...     71.0   \n",
       "18206          Right       CM           33.0   5'10  176lbs  ...     63.0   \n",
       "\n",
       "       ShotPower  Jumping  Stamina  Strength  Vision  Penalties  \\\n",
       "0           85.0     68.0     72.0      59.0    94.0       75.0   \n",
       "1           95.0     95.0     88.0      79.0    82.0       85.0   \n",
       "2           80.0     61.0     81.0      49.0    87.0       81.0   \n",
       "3           31.0     67.0     43.0      64.0    68.0       40.0   \n",
       "4           91.0     63.0     90.0      75.0    94.0       79.0   \n",
       "...          ...      ...      ...       ...     ...        ...   \n",
       "18202       43.0     55.0     40.0      47.0    52.0       43.0   \n",
       "18203       41.0     47.0     43.0      67.0    33.0       43.0   \n",
       "18204       45.0     60.0     55.0      32.0    43.0       55.0   \n",
       "18205       64.0     42.0     40.0      48.0    47.0       50.0   \n",
       "18206       43.0     62.0     47.0      60.0    49.0       33.0   \n",
       "\n",
       "       StandingTackle  GKHandling  GKReflexes  \n",
       "0                28.0        11.0         8.0  \n",
       "1                31.0        11.0        11.0  \n",
       "2                24.0         9.0        11.0  \n",
       "3                21.0        85.0        94.0  \n",
       "4                58.0        13.0        13.0  \n",
       "...               ...         ...         ...  \n",
       "18202            48.0        13.0         9.0  \n",
       "18203            15.0         9.0        12.0  \n",
       "18204            13.0         5.0        13.0  \n",
       "18205            25.0         6.0         9.0  \n",
       "18206            43.0        15.0         9.0  \n",
       "\n",
       "[18207 rows x 26 columns]"
      ]
     },
     "execution_count": 1,
     "metadata": {},
     "output_type": "execute_result"
    }
   ],
   "source": [
    "import pandas as pd\n",
    "import numpy as np\n",
    "import seaborn as sns\n",
    "import matplotlib.pyplot as plt\n",
    "%matplotlib inline\n",
    "import math\n",
    "\n",
    "\n",
    "\n",
    "football_data=pd.read_csv(\"StrikerDataset.csv\")\n",
    "football_data[['ID','Name','Age','Nationality','Club','Preferred Foot','Position','Jersey Number','Height','Weight','ShortPassing','FKAccuracy','LongPassing','BallControl','Acceleration',\n",
    "              'Agility','Balance','ShotPower','Jumping','Stamina','Strength','Vision','Penalties','StandingTackle','GKHandling','GKReflexes']]\n",
    "\n"
   ]
  },
  {
   "cell_type": "code",
   "execution_count": 2,
   "metadata": {},
   "outputs": [
    {
     "name": "stdout",
     "output_type": "stream",
     "text": [
      "Number of players:18207\n"
     ]
    }
   ],
   "source": [
    "print(\"Number of players:\" + str(len(football_data.index)))"
   ]
  },
  {
   "cell_type": "code",
   "execution_count": 3,
   "metadata": {},
   "outputs": [
    {
     "data": {
      "text/plain": [
       "<matplotlib.axes._subplots.AxesSubplot at 0x2a645f6ee88>"
      ]
     },
     "execution_count": 3,
     "metadata": {},
     "output_type": "execute_result"
    },
    {
     "data": {
      "image/png": "[encoded data removed]",
      "text/plain": [
       "<Figure size 432x288 with 1 Axes>"
      ]
     },
     "metadata": {
      "needs_background": "light"
     },
     "output_type": "display_data"
    }
   ],
   "source": [
    "#Analizing data\n",
    "sns.countplot(x=\"Height\",data=football_data)"
   ]
  },
  {
   "cell_type": "code",
   "execution_count": 4,
   "metadata": {},
   "outputs": [
    {
     "data": {
      "text/plain": [
       "<matplotlib.axes._subplots.AxesSubplot at 0x2a6460edb08>"
      ]
     },
     "execution_count": 4,
     "metadata": {},
     "output_type": "execute_result"
    },
    {
     "data": {
      "image/png": "[encoded data removed]",
      "text/plain": [
       "<Figure size 432x288 with 1 Axes>"
      ]
     },
     "metadata": {
      "needs_background": "light"
     },
     "output_type": "display_data"
    }
   ],
   "source": [
    "football_data[\"Age\"].plot.hist()"
   ]
  },
  {
   "cell_type": "code",
   "execution_count": 5,
   "metadata": {},
   "outputs": [
    {
     "name": "stdout",
     "output_type": "stream",
     "text": [
      "<class 'pandas.core.frame.DataFrame'>\n",
      "RangeIndex: 18207 entries, 0 to 18206\n",
      "Data columns (total 37 columns):\n",
      "Unnamed: 0              18207 non-null int64\n",
      "ID                      18207 non-null int64\n",
      "Name                    18207 non-null object\n",
      "Age                     18207 non-null int64\n",
      "Photo                   18207 non-null object\n",
      "Nationality             18207 non-null object\n",
      "Club                    17966 non-null object\n",
      "Value                   18207 non-null object\n",
      "Wage                    18207 non-null object\n",
      "Preferred Foot          18159 non-null object\n",
      "Position                18147 non-null object\n",
      "Jersey Number           18147 non-null float64\n",
      "Joined                  16654 non-null object\n",
      "Contract Valid Until    17918 non-null object\n",
      "Height                  18159 non-null object\n",
      "Weight                  18159 non-null object\n",
      "ShortPassing            18159 non-null float64\n",
      "FKAccuracy              18159 non-null float64\n",
      "LongPassing             18159 non-null float64\n",
      "BallControl             18159 non-null float64\n",
      "Acceleration            18159 non-null float64\n",
      "SprintSpeed             18159 non-null float64\n",
      "Agility                 18159 non-null float64\n",
      "Reactions               18159 non-null float64\n",
      "Balance                 18159 non-null float64\n",
      "ShotPower               18159 non-null float64\n",
      "Jumping                 18159 non-null float64\n",
      "Stamina                 18159 non-null float64\n",
      "Strength                18159 non-null float64\n",
      "LongShots               18159 non-null float64\n",
      "Aggression              18159 non-null float64\n",
      "Interceptions           18159 non-null float64\n",
      "Vision                  18159 non-null float64\n",
      "Penalties               18159 non-null float64\n",
      "StandingTackle          18159 non-null float64\n",
      "GKHandling              18159 non-null float64\n",
      "GKReflexes              18159 non-null float64\n",
      "dtypes: float64(22), int64(3), object(12)\n",
      "memory usage: 5.1+ MB\n"
     ]
    }
   ],
   "source": [
    "football_data.info()"
   ]
  },
  {
   "cell_type": "code",
   "execution_count": 6,
   "metadata": {},
   "outputs": [
    {
     "data": {
      "text/plain": [
       "<matplotlib.axes._subplots.AxesSubplot at 0x2a646717708>"
      ]
     },
     "execution_count": 6,
     "metadata": {},
     "output_type": "execute_result"
    },
    {
     "data": {
      "image/png": "[encoded data removed]",
      "text/plain": [
       "<Figure size 432x288 with 1 Axes>"
      ]
     },
     "metadata": {
      "needs_background": "light"
     },
     "output_type": "display_data"
    }
   ],
   "source": [
    "sns.countplot(x=\"Height\",data=football_data)"
   ]
  },
  {
   "cell_type": "code",
   "execution_count": 7,
   "metadata": {},
   "outputs": [
    {
     "data": {
      "text/html": [
       "<div>\n",
       "<style scoped>\n",
       "    .dataframe tbody tr th:only-of-type {\n",
       "        vertical-align: middle;\n",
       "    }\n",
       "\n",
       "    .dataframe tbody tr th {\n",
       "        vertical-align: top;\n",
       "    }\n",
       "\n",
       "    .dataframe thead th {\n",
       "        text-align: right;\n",
       "    }\n",
       "</style>\n",
       "<table border=\"1\" class=\"dataframe\">\n",
       "  <thead>\n",
       "    <tr style=\"text-align: right;\">\n",
       "      <th></th>\n",
       "      <th>Unnamed: 0</th>\n",
       "      <th>ID</th>\n",
       "      <th>Name</th>\n",
       "      <th>Age</th>\n",
       "      <th>Photo</th>\n",
       "      <th>Nationality</th>\n",
       "      <th>Club</th>\n",
       "      <th>Value</th>\n",
       "      <th>Wage</th>\n",
       "      <th>Preferred Foot</th>\n",
       "      <th>...</th>\n",
       "      <th>Stamina</th>\n",
       "      <th>Strength</th>\n",
       "      <th>LongShots</th>\n",
       "      <th>Aggression</th>\n",
       "      <th>Interceptions</th>\n",
       "      <th>Vision</th>\n",
       "      <th>Penalties</th>\n",
       "      <th>StandingTackle</th>\n",
       "      <th>GKHandling</th>\n",
       "      <th>GKReflexes</th>\n",
       "    </tr>\n",
       "  </thead>\n",
       "  <tbody>\n",
       "    <tr>\n",
       "      <td>0</td>\n",
       "      <td>False</td>\n",
       "      <td>False</td>\n",
       "      <td>False</td>\n",
       "      <td>False</td>\n",
       "      <td>False</td>\n",
       "      <td>False</td>\n",
       "      <td>False</td>\n",
       "      <td>False</td>\n",
       "      <td>False</td>\n",
       "      <td>False</td>\n",
       "      <td>...</td>\n",
       "      <td>False</td>\n",
       "      <td>False</td>\n",
       "      <td>False</td>\n",
       "      <td>False</td>\n",
       "      <td>False</td>\n",
       "      <td>False</td>\n",
       "      <td>False</td>\n",
       "      <td>False</td>\n",
       "      <td>False</td>\n",
       "      <td>False</td>\n",
       "    </tr>\n",
       "    <tr>\n",
       "      <td>1</td>\n",
       "      <td>False</td>\n",
       "      <td>False</td>\n",
       "      <td>False</td>\n",
       "      <td>False</td>\n",
       "      <td>False</td>\n",
       "      <td>False</td>\n",
       "      <td>False</td>\n",
       "      <td>False</td>\n",
       "      <td>False</td>\n",
       "      <td>False</td>\n",
       "      <td>...</td>\n",
       "      <td>False</td>\n",
       "      <td>False</td>\n",
       "      <td>False</td>\n",
       "      <td>False</td>\n",
       "      <td>False</td>\n",
       "      <td>False</td>\n",
       "      <td>False</td>\n",
       "      <td>False</td>\n",
       "      <td>False</td>\n",
       "      <td>False</td>\n",
       "    </tr>\n",
       "    <tr>\n",
       "      <td>2</td>\n",
       "      <td>False</td>\n",
       "      <td>False</td>\n",
       "      <td>False</td>\n",
       "      <td>False</td>\n",
       "      <td>False</td>\n",
       "      <td>False</td>\n",
       "      <td>False</td>\n",
       "      <td>False</td>\n",
       "      <td>False</td>\n",
       "      <td>False</td>\n",
       "      <td>...</td>\n",
       "      <td>False</td>\n",
       "      <td>False</td>\n",
       "      <td>False</td>\n",
       "      <td>False</td>\n",
       "      <td>False</td>\n",
       "      <td>False</td>\n",
       "      <td>False</td>\n",
       "      <td>False</td>\n",
       "      <td>False</td>\n",
       "      <td>False</td>\n",
       "    </tr>\n",
       "    <tr>\n",
       "      <td>3</td>\n",
       "      <td>False</td>\n",
       "      <td>False</td>\n",
       "      <td>False</td>\n",
       "      <td>False</td>\n",
       "      <td>False</td>\n",
       "      <td>False</td>\n",
       "      <td>False</td>\n",
       "      <td>False</td>\n",
       "      <td>False</td>\n",
       "      <td>False</td>\n",
       "      <td>...</td>\n",
       "      <td>False</td>\n",
       "      <td>False</td>\n",
       "      <td>False</td>\n",
       "      <td>False</td>\n",
       "      <td>False</td>\n",
       "      <td>False</td>\n",
       "      <td>False</td>\n",
       "      <td>False</td>\n",
       "      <td>False</td>\n",
       "      <td>False</td>\n",
       "    </tr>\n",
       "    <tr>\n",
       "      <td>4</td>\n",
       "      <td>False</td>\n",
       "      <td>False</td>\n",
       "      <td>False</td>\n",
       "      <td>False</td>\n",
       "      <td>False</td>\n",
       "      <td>False</td>\n",
       "      <td>False</td>\n",
       "      <td>False</td>\n",
       "      <td>False</td>\n",
       "      <td>False</td>\n",
       "      <td>...</td>\n",
       "      <td>False</td>\n",
       "      <td>False</td>\n",
       "      <td>False</td>\n",
       "      <td>False</td>\n",
       "      <td>False</td>\n",
       "      <td>False</td>\n",
       "      <td>False</td>\n",
       "      <td>False</td>\n",
       "      <td>False</td>\n",
       "      <td>False</td>\n",
       "    </tr>\n",
       "    <tr>\n",
       "      <td>...</td>\n",
       "      <td>...</td>\n",
       "      <td>...</td>\n",
       "      <td>...</td>\n",
       "      <td>...</td>\n",
       "      <td>...</td>\n",
       "      <td>...</td>\n",
       "      <td>...</td>\n",
       "      <td>...</td>\n",
       "      <td>...</td>\n",
       "      <td>...</td>\n",
       "      <td>...</td>\n",
       "      <td>...</td>\n",
       "      <td>...</td>\n",
       "      <td>...</td>\n",
       "      <td>...</td>\n",
       "      <td>...</td>\n",
       "      <td>...</td>\n",
       "      <td>...</td>\n",
       "      <td>...</td>\n",
       "      <td>...</td>\n",
       "      <td>...</td>\n",
       "    </tr>\n",
       "    <tr>\n",
       "      <td>18202</td>\n",
       "      <td>False</td>\n",
       "      <td>False</td>\n",
       "      <td>False</td>\n",
       "      <td>False</td>\n",
       "      <td>False</td>\n",
       "      <td>False</td>\n",
       "      <td>False</td>\n",
       "      <td>False</td>\n",
       "      <td>False</td>\n",
       "      <td>False</td>\n",
       "      <td>...</td>\n",
       "      <td>False</td>\n",
       "      <td>False</td>\n",
       "      <td>False</td>\n",
       "      <td>False</td>\n",
       "      <td>False</td>\n",
       "      <td>False</td>\n",
       "      <td>False</td>\n",
       "      <td>False</td>\n",
       "      <td>False</td>\n",
       "      <td>False</td>\n",
       "    </tr>\n",
       "    <tr>\n",
       "      <td>18203</td>\n",
       "      <td>False</td>\n",
       "      <td>False</td>\n",
       "      <td>False</td>\n",
       "      <td>False</td>\n",
       "      <td>False</td>\n",
       "      <td>False</td>\n",
       "      <td>False</td>\n",
       "      <td>False</td>\n",
       "      <td>False</td>\n",
       "      <td>False</td>\n",
       "      <td>...</td>\n",
       "      <td>False</td>\n",
       "      <td>False</td>\n",
       "      <td>False</td>\n",
       "      <td>False</td>\n",
       "      <td>False</td>\n",
       "      <td>False</td>\n",
       "      <td>False</td>\n",
       "      <td>False</td>\n",
       "      <td>False</td>\n",
       "      <td>False</td>\n",
       "    </tr>\n",
       "    <tr>\n",
       "      <td>18204</td>\n",
       "      <td>False</td>\n",
       "      <td>False</td>\n",
       "      <td>False</td>\n",
       "      <td>False</td>\n",
       "      <td>False</td>\n",
       "      <td>False</td>\n",
       "      <td>False</td>\n",
       "      <td>False</td>\n",
       "      <td>False</td>\n",
       "      <td>False</td>\n",
       "      <td>...</td>\n",
       "      <td>False</td>\n",
       "      <td>False</td>\n",
       "      <td>False</td>\n",
       "      <td>False</td>\n",
       "      <td>False</td>\n",
       "      <td>False</td>\n",
       "      <td>False</td>\n",
       "      <td>False</td>\n",
       "      <td>False</td>\n",
       "      <td>False</td>\n",
       "    </tr>\n",
       "    <tr>\n",
       "      <td>18205</td>\n",
       "      <td>False</td>\n",
       "      <td>False</td>\n",
       "      <td>False</td>\n",
       "      <td>False</td>\n",
       "      <td>False</td>\n",
       "      <td>False</td>\n",
       "      <td>False</td>\n",
       "      <td>False</td>\n",
       "      <td>False</td>\n",
       "      <td>False</td>\n",
       "      <td>...</td>\n",
       "      <td>False</td>\n",
       "      <td>False</td>\n",
       "      <td>False</td>\n",
       "      <td>False</td>\n",
       "      <td>False</td>\n",
       "      <td>False</td>\n",
       "      <td>False</td>\n",
       "      <td>False</td>\n",
       "      <td>False</td>\n",
       "      <td>False</td>\n",
       "    </tr>\n",
       "    <tr>\n",
       "      <td>18206</td>\n",
       "      <td>False</td>\n",
       "      <td>False</td>\n",
       "      <td>False</td>\n",
       "      <td>False</td>\n",
       "      <td>False</td>\n",
       "      <td>False</td>\n",
       "      <td>False</td>\n",
       "      <td>False</td>\n",
       "      <td>False</td>\n",
       "      <td>False</td>\n",
       "      <td>...</td>\n",
       "      <td>False</td>\n",
       "      <td>False</td>\n",
       "      <td>False</td>\n",
       "      <td>False</td>\n",
       "      <td>False</td>\n",
       "      <td>False</td>\n",
       "      <td>False</td>\n",
       "      <td>False</td>\n",
       "      <td>False</td>\n",
       "      <td>False</td>\n",
       "    </tr>\n",
       "  </tbody>\n",
       "</table>\n",
       "<p>18207 rows × 37 columns</p>\n",
       "</div>"
      ],
      "text/plain": [
       "       Unnamed: 0     ID   Name    Age  Photo  Nationality   Club  Value  \\\n",
       "0           False  False  False  False  False        False  False  False   \n",
       "1           False  False  False  False  False        False  False  False   \n",
       "2           False  False  False  False  False        False  False  False   \n",
       "3           False  False  False  False  False        False  False  False   \n",
       "4           False  False  False  False  False        False  False  False   \n",
       "...           ...    ...    ...    ...    ...          ...    ...    ...   \n",
       "18202       False  False  False  False  False        False  False  False   \n",
       "18203       False  False  False  False  False        False  False  False   \n",
       "18204       False  False  False  False  False        False  False  False   \n",
       "18205       False  False  False  False  False        False  False  False   \n",
       "18206       False  False  False  False  False        False  False  False   \n",
       "\n",
       "        Wage  Preferred Foot  ...  Stamina  Strength  LongShots  Aggression  \\\n",
       "0      False           False  ...    False     False      False       False   \n",
       "1      False           False  ...    False     False      False       False   \n",
       "2      False           False  ...    False     False      False       False   \n",
       "3      False           False  ...    False     False      False       False   \n",
       "4      False           False  ...    False     False      False       False   \n",
       "...      ...             ...  ...      ...       ...        ...         ...   \n",
       "18202  False           False  ...    False     False      False       False   \n",
       "18203  False           False  ...    False     False      False       False   \n",
       "18204  False           False  ...    False     False      False       False   \n",
       "18205  False           False  ...    False     False      False       False   \n",
       "18206  False           False  ...    False     False      False       False   \n",
       "\n",
       "       Interceptions  Vision  Penalties  StandingTackle  GKHandling  \\\n",
       "0              False   False      False           False       False   \n",
       "1              False   False      False           False       False   \n",
       "2              False   False      False           False       False   \n",
       "3              False   False      False           False       False   \n",
       "4              False   False      False           False       False   \n",
       "...              ...     ...        ...             ...         ...   \n",
       "18202          False   False      False           False       False   \n",
       "18203          False   False      False           False       False   \n",
       "18204          False   False      False           False       False   \n",
       "18205          False   False      False           False       False   \n",
       "18206          False   False      False           False       False   \n",
       "\n",
       "       GKReflexes  \n",
       "0           False  \n",
       "1           False  \n",
       "2           False  \n",
       "3           False  \n",
       "4           False  \n",
       "...           ...  \n",
       "18202       False  \n",
       "18203       False  \n",
       "18204       False  \n",
       "18205       False  \n",
       "18206       False  \n",
       "\n",
       "[18207 rows x 37 columns]"
      ]
     },
     "execution_count": 7,
     "metadata": {},
     "output_type": "execute_result"
    }
   ],
   "source": [
    "#Data wrangling\n",
    "football_data.isnull()"
   ]
  },
  {
   "cell_type": "code",
   "execution_count": 8,
   "metadata": {},
   "outputs": [
    {
     "data": {
      "text/plain": [
       "Unnamed: 0                 0\n",
       "ID                         0\n",
       "Name                       0\n",
       "Age                        0\n",
       "Photo                      0\n",
       "Nationality                0\n",
       "Club                     241\n",
       "Value                      0\n",
       "Wage                       0\n",
       "Preferred Foot            48\n",
       "Position                  60\n",
       "Jersey Number             60\n",
       "Joined                  1553\n",
       "Contract Valid Until     289\n",
       "Height                    48\n",
       "Weight                    48\n",
       "ShortPassing              48\n",
       "FKAccuracy                48\n",
       "LongPassing               48\n",
       "BallControl               48\n",
       "Acceleration              48\n",
       "SprintSpeed               48\n",
       "Agility                   48\n",
       "Reactions                 48\n",
       "Balance                   48\n",
       "ShotPower                 48\n",
       "Jumping                   48\n",
       "Stamina                   48\n",
       "Strength                  48\n",
       "LongShots                 48\n",
       "Aggression                48\n",
       "Interceptions             48\n",
       "Vision                    48\n",
       "Penalties                 48\n",
       "StandingTackle            48\n",
       "GKHandling                48\n",
       "GKReflexes                48\n",
       "dtype: int64"
      ]
     },
     "execution_count": 8,
     "metadata": {},
     "output_type": "execute_result"
    }
   ],
   "source": [
    "football_data.isnull().sum()"
   ]
  },
  {
   "cell_type": "code",
   "execution_count": 9,
   "metadata": {},
   "outputs": [],
   "source": [
    "football_data.dropna(inplace=True)"
   ]
  },
  {
   "cell_type": "code",
   "execution_count": 10,
   "metadata": {},
   "outputs": [
    {
     "data": {
      "text/plain": [
       "Unnamed: 0              0\n",
       "ID                      0\n",
       "Name                    0\n",
       "Age                     0\n",
       "Photo                   0\n",
       "Nationality             0\n",
       "Club                    0\n",
       "Value                   0\n",
       "Wage                    0\n",
       "Preferred Foot          0\n",
       "Position                0\n",
       "Jersey Number           0\n",
       "Joined                  0\n",
       "Contract Valid Until    0\n",
       "Height                  0\n",
       "Weight                  0\n",
       "ShortPassing            0\n",
       "FKAccuracy              0\n",
       "LongPassing             0\n",
       "BallControl             0\n",
       "Acceleration            0\n",
       "SprintSpeed             0\n",
       "Agility                 0\n",
       "Reactions               0\n",
       "Balance                 0\n",
       "ShotPower               0\n",
       "Jumping                 0\n",
       "Stamina                 0\n",
       "Strength                0\n",
       "LongShots               0\n",
       "Aggression              0\n",
       "Interceptions           0\n",
       "Vision                  0\n",
       "Penalties               0\n",
       "StandingTackle          0\n",
       "GKHandling              0\n",
       "GKReflexes              0\n",
       "dtype: int64"
      ]
     },
     "execution_count": 10,
     "metadata": {},
     "output_type": "execute_result"
    }
   ],
   "source": [
    "football_data.isnull().sum()"
   ]
  },
  {
   "cell_type": "code",
   "execution_count": 11,
   "metadata": {},
   "outputs": [
    {
     "data": {
      "text/plain": [
       "<matplotlib.axes._subplots.AxesSubplot at 0x2a6410df788>"
      ]
     },
     "execution_count": 11,
     "metadata": {},
     "output_type": "execute_result"
    },
    {
     "data": {
      "image/png": "[encoded data removed]",
      "text/plain": [
       "<Figure size 720x2304 with 1 Axes>"
      ]
     },
     "metadata": {
      "needs_background": "light"
     },
     "output_type": "display_data"
    }
   ],
   "source": [
    "plt.figure(figsize=(10,32))\n",
    " \n",
    "sns.countplot(y = football_data.Nationality,palette=\"Set2\") #Plot all the nations on Y Axis\n"
   ]
  },
  {
   "cell_type": "code",
   "execution_count": 12,
   "metadata": {},
   "outputs": [
    {
     "data": {
      "text/plain": [
       "<matplotlib.axes._subplots.AxesSubplot at 0x2a646c94608>"
      ]
     },
     "execution_count": 12,
     "metadata": {},
     "output_type": "execute_result"
    },
    {
     "data": {
      "image/png": "[encoded data removed]",
      "text/plain": [
       "<Figure size 720x432 with 1 Axes>"
      ]
     },
     "metadata": {
      "needs_background": "light"
     },
     "output_type": "display_data"
    }
   ],
   "source": [
    "plt.figure(figsize=(10,6))\n",
    "sns.countplot(x=\"Position\",data=football_data)"
   ]
  },
  {
   "cell_type": "code",
   "execution_count": 13,
   "metadata": {},
   "outputs": [],
   "source": [
    "#weights\n",
    "a = 0.5\n",
    "b = 1\n",
    "c= 2\n",
    "d = 3\n",
    " \n",
    "#GoalKeeping Characterstics\n",
    "football_data['Shot_Stopper'] = (b*football_data.Reactions + a*football_data.Strength + c*football_data.Jumping + d*football_data.GKReflexes + b*football_data.GKHandling)/(1*a + 2*b + 1*c + 1*d)\n",
    "football_data['Sweeper'] = (b*football_data.Reactions + a*football_data.ShortPassing + a*football_data.LongPassing + b*football_data.Jumping + d*football_data.GKReflexes + b*football_data.GKHandling + c*football_data.Vision)/(2*a + 3*b + 1*c + 1*d)\n"
   ]
  },
  {
   "cell_type": "code",
   "execution_count": 14,
   "metadata": {},
   "outputs": [
    {
     "name": "stdout",
     "output_type": "stream",
     "text": [
      "Top 5 goal keepers:\n"
     ]
    },
    {
     "data": {
      "image/png": "[encoded data removed]",
      "text/plain": [
       "<Figure size 720x432 with 1 Axes>"
      ]
     },
     "metadata": {
      "needs_background": "light"
     },
     "output_type": "display_data"
    },
    {
     "data": {
      "image/png": "[encoded data removed]",
      "text/plain": [
       "<Figure size 720x432 with 1 Axes>"
      ]
     },
     "metadata": {
      "needs_background": "light"
     },
     "output_type": "display_data"
    }
   ],
   "source": [
    "plt.figure(figsize=(10,6))\n",
    " \n",
    "# Generate sequential data and plot\n",
    "sd = football_data.sort_values('Shot_Stopper', ascending=False)[:5]\n",
    "x1 = np.array(list(sd['Name']))\n",
    "y1 = np.array(list(sd['Shot_Stopper']))\n",
    "sns.barplot(x1, y1, palette= \"colorblind\")\n",
    "plt.ylabel(\"Shot Stopping Ratings\")\n",
    "\n",
    "\n",
    "plt.figure(figsize=(10,6))\n",
    "sd = football_data.sort_values('Sweeper', ascending=False)[:5]\n",
    "x2 = np.array(list(sd['Name']))\n",
    "y2 = np.array(list(sd['Sweeper']))\n",
    "sns.barplot(x2, y2, palette= \"colorblind\")\n",
    "plt.ylabel(\"Sweeping Ratings\")\n",
    "print(\"Top 5 goal keepers:\")"
   ]
  },
  {
   "cell_type": "code",
   "execution_count": 15,
   "metadata": {},
   "outputs": [
    {
     "name": "stdout",
     "output_type": "stream",
     "text": [
      "Top 5 left central deffenders:\n"
     ]
    },
    {
     "data": {
      "image/png": "[encoded data removed]",
      "text/plain": [
       "<Figure size 720x432 with 1 Axes>"
      ]
     },
     "metadata": {
      "needs_background": "light"
     },
     "output_type": "display_data"
    }
   ],
   "source": [
    "#Choosing Defenders\n",
    "football_data['centre_backs'] = ( d*football_data.Reactions + c*football_data.Interceptions + d*football_data.StandingTackle + b*football_data.Vision+a*football_data.ShortPassing + b*football_data.LongPassing+ c*football_data.Acceleration\n",
    "+ d*football_data.Stamina + d*football_data.Jumping + b*football_data.LongShots+ c*football_data.Aggression+d*football_data.SprintSpeed)/(1*a+3*b + 3*c + 5*d)\n",
    "football_data['Wing_Backs'] = (b*football_data.Balance+ d*football_data.StandingTackle + a*football_data.Agility + c*football_data.Vision + b*football_data.ShortPassing + c*football_data.LongPassing + d*football_data.Acceleration +d*football_data.SprintSpeed + c*football_data.Stamina)/(1*a + 2*b + 3*c + 3*d)\n",
    "\n",
    "plt.figure(figsize=(10,6))\n",
    "sd = football_data[(football_data['Position'] == 'LCB')].sort_values('centre_backs', ascending=False)[:5]\n",
    "x2 = np.array(list(sd['Name']))\n",
    "y2 = np.array(list(sd['centre_backs']))\n",
    "sns.barplot(x2, y2, palette=sns.color_palette(\"Blues_d\"))\n",
    "plt.ylabel(\"LCB Ratings\")\n",
    "print(\"Top 5 left central deffenders:\")\n",
    "\n"
   ]
  },
  {
   "cell_type": "code",
   "execution_count": 16,
   "metadata": {
    "scrolled": true
   },
   "outputs": [
    {
     "name": "stdout",
     "output_type": "stream",
     "text": [
      "Top 5 Right central deffenders:\n"
     ]
    },
    {
     "data": {
      "image/png": "[encoded data removed]",
      "text/plain": [
       "<Figure size 720x432 with 1 Axes>"
      ]
     },
     "metadata": {
      "needs_background": "light"
     },
     "output_type": "display_data"
    }
   ],
   "source": [
    "plt.figure(figsize=(10,6))\n",
    " \n",
    "sd = football_data[(football_data['Position'] == 'RCB')].sort_values('centre_backs', ascending=False)[:5]\n",
    "x2 = np.array(list(sd['Name']))\n",
    "y2 = np.array(list(sd['centre_backs']))\n",
    "sns.barplot(x2, y2, palette=sns.color_palette(\"Blues_d\"))\n",
    "plt.ylabel(\"RCB Ratings\")\n",
    "print(\"Top 5 Right central deffenders:\")"
   ]
  },
  {
   "cell_type": "code",
   "execution_count": 17,
   "metadata": {
    "scrolled": true
   },
   "outputs": [
    {
     "name": "stdout",
     "output_type": "stream",
     "text": [
      "Top 5 Left Wing Backs:\n"
     ]
    },
    {
     "data": {
      "image/png": "[encoded data removed]",
      "text/plain": [
       "<Figure size 720x432 with 1 Axes>"
      ]
     },
     "metadata": {
      "needs_background": "light"
     },
     "output_type": "display_data"
    }
   ],
   "source": [
    "plt.figure(figsize=(10,6))\n",
    " \n",
    "sd = football_data[(football_data['Position'] == 'LWB') | (football_data['Position'] == 'LB')].sort_values('Wing_Backs', ascending=False)[:5]\n",
    "x4 = np.array(list(sd['Name']))\n",
    "y4 = np.array(list(sd['Wing_Backs']))\n",
    "sns.barplot(x4, y4, palette=sns.color_palette(\"Blues_d\"))\n",
    "plt.ylabel(\"Left Back Ratings\")\n",
    "print(\"Top 5 Left Wing Backs:\")"
   ]
  },
  {
   "cell_type": "code",
   "execution_count": 18,
   "metadata": {},
   "outputs": [
    {
     "name": "stdout",
     "output_type": "stream",
     "text": [
      "Top 5 Right Wing Backs:\n"
     ]
    },
    {
     "data": {
      "image/png": "[encoded data removed]",
      "text/plain": [
       "<Figure size 720x432 with 1 Axes>"
      ]
     },
     "metadata": {
      "needs_background": "light"
     },
     "output_type": "display_data"
    }
   ],
   "source": [
    "plt.figure(figsize=(10,6))\n",
    "sd = football_data[(football_data['Position'] == 'RWB') | (football_data['Position'] == 'RB')].sort_values('Wing_Backs', ascending=False)[:5]\n",
    "x5 = np.array(list(sd['Name']))\n",
    "y5 = np.array(list(sd['Wing_Backs']))\n",
    "sns.barplot(x5, y5, palette=sns.color_palette(\"Blues_d\"))\n",
    "plt.ylabel(\"Right Back Ratings\")\n",
    "print(\"Top 5 Right Wing Backs:\")"
   ]
  },
  {
   "cell_type": "code",
   "execution_count": 19,
   "metadata": {},
   "outputs": [
    {
     "name": "stdout",
     "output_type": "stream",
     "text": [
      "Top 5 attackers:\n"
     ]
    },
    {
     "data": {
      "image/png": "[encoded data removed]",
      "text/plain": [
       "<Figure size 1080x432 with 1 Axes>"
      ]
     },
     "metadata": {
      "needs_background": "light"
     },
     "output_type": "display_data"
    },
    {
     "data": {
      "image/png": "[encoded data removed]",
      "text/plain": [
       "<Figure size 1080x432 with 1 Axes>"
      ]
     },
     "metadata": {
      "needs_background": "light"
     },
     "output_type": "display_data"
    },
    {
     "data": {
      "image/png": "[encoded data removed]",
      "text/plain": [
       "<Figure size 1080x432 with 1 Axes>"
      ]
     },
     "metadata": {
      "needs_background": "light"
     },
     "output_type": "display_data"
    }
   ],
   "source": [
    "#Attackers\n",
    "football_data['left_wing'] = (c*football_data.Balance + c*football_data.SprintSpeed + d*football_data.Acceleration + d*football_data.Vision + b*football_data.ShortPassing + b*football_data.LongPassing + b*football_data.Aggression + b*football_data.Agility + c*football_data.LongShots + b*football_data.FKAccuracy)/(5*b + 3*c + 2*d)\n",
    "football_data['right_wing'] = ( c*football_data.Balance + c*football_data.SprintSpeed + d*football_data.Acceleration + d*football_data.Vision + b*football_data.ShortPassing + b*football_data.LongPassing + b*football_data.Aggression + b*football_data.Agility + d*football_data.LongShots + b*football_data.FKAccuracy+d*football_data.BallControl+d*football_data.Reactions)/(5*b + 2*c + 4*d)\n",
    "football_data['striker'] = ( b*football_data.Balance + a*football_data.Vision + b*football_data.Aggression + b*football_data.Agility + a*football_data.LongShots + c*football_data.Jumping + c*football_data.FKAccuracy+d*football_data.BallControl)/(2*a + 3*b + 2*c+1*d)\n",
    "\n",
    "plt.figure(figsize=(15,6))\n",
    " \n",
    "ss = football_data[(football_data['Position'] == 'LW') | (football_data['Position'] == 'LM') | (football_data['Position'] == 'LS')].sort_values('left_wing', ascending=False)[:5]\n",
    "x1 = np.array(list(ss['Name']))\n",
    "y1 = np.array(list(ss['left_wing']))\n",
    "sns.barplot(x1, y1, palette=sns.diverging_palette(255, 133, l=60, n=5, center=\"dark\"))\n",
    "plt.ylabel(\"Left Wing\")\n",
    "\n",
    "plt.figure(figsize=(15,6))\n",
    " \n",
    "ss = football_data[(football_data['Position'] == 'RW') | (football_data['Position'] == 'RF') | (football_data['Position'] == 'RS')].sort_values('right_wing', ascending=False)[:5]\n",
    "x2 = np.array(list(ss['Name']))\n",
    "y2 = np.array(list(ss['right_wing']))\n",
    "sns.barplot(x2, y2, palette=sns.diverging_palette(255, 133, l=60, n=5, center=\"dark\"))\n",
    "plt.ylabel(\"Right Wing\")\n",
    "\n",
    "plt.figure(figsize=(15,6))\n",
    "ss = football_data[(football_data['Position'] == 'ST') | (football_data['Position'] == 'LS') | (football_data['Position'] == 'RS') | (football_data['Position'] == 'CF')].sort_values('striker', ascending=False)[:5]\n",
    "x3 = np.array(list(ss['Name']))\n",
    "y3 = np.array(list(ss['striker']))\n",
    "sns.barplot(x3, y3, palette=sns.diverging_palette(255, 133, l=60, n=5, center=\"dark\"))\n",
    "plt.ylabel(\"Striker ratings\")\n",
    "print(\"Top 5 attackers:\")"
   ]
  },
  {
   "cell_type": "code",
   "execution_count": 20,
   "metadata": {},
   "outputs": [
    {
     "name": "stdout",
     "output_type": "stream",
     "text": [
      "Top 5 midfeilders:\n"
     ]
    },
    {
     "data": {
      "image/png": "[encoded data removed]",
      "text/plain": [
       "<Figure size 1080x432 with 1 Axes>"
      ]
     },
     "metadata": {
      "needs_background": "light"
     },
     "output_type": "display_data"
    },
    {
     "data": {
      "image/png": "[encoded data removed]",
      "text/plain": [
       "<Figure size 1080x432 with 1 Axes>"
      ]
     },
     "metadata": {
      "needs_background": "light"
     },
     "output_type": "display_data"
    },
    {
     "data": {
      "image/png": "[encoded data removed]",
      "text/plain": [
       "<Figure size 1080x432 with 1 Axes>"
      ]
     },
     "metadata": {
      "needs_background": "light"
     },
     "output_type": "display_data"
    }
   ],
   "source": [
    "#Midfielding Indices\n",
    "football_data['playmaker'] = (d*football_data.Balance+ d*football_data.Reactions + d*football_data.Vision+ d*football_data.ShortPassing + c*football_data.LongPassing + b*football_data.LongShots + c*football_data.FKAccuracy)/( 1*b + 2*c + 4*d)\n",
    "football_data['beast'] = (d*football_data.Agility + c*football_data.Balance + b*football_data.Jumping + c*football_data.Strength + d*football_data.Stamina + a*football_data.SprintSpeed + c*football_data.Acceleration + d*football_data.ShortPassing + c*football_data.Aggression + d*football_data.Reactions + b*football_data.StandingTackle + b*football_data.Interceptions)/(1*a+3*b + 4*c + 4*d)\n",
    "football_data['controller'] = ( d*football_data.Balance  + a*football_data.Reactions + c*football_data.Vision  + d*football_data.ShortPassing + d*football_data.LongPassing)/(2*c+3*d+1*a)\n",
    "\n",
    "plt.figure(figsize=(15,6))\n",
    " \n",
    "ss = football_data[(football_data['Position'] == 'CAM') | (football_data['Position'] == 'LAM') | (football_data['Position'] == 'RAM')].sort_values('playmaker', ascending=False)[:5]\n",
    "x3 = np.array(list(ss['Name']))\n",
    "y3 = np.array(list(ss['playmaker']))\n",
    "sns.barplot(x3, y3, palette=sns.diverging_palette(145, 280, s=85, l=25, n=5))\n",
    "plt.ylabel(\"PlayMaker Ratings:\")\n",
    "\n",
    "plt.figure(figsize=(15,6))\n",
    " \n",
    "ss = football_data[(football_data['Position'] == 'RCM') | (football_data['Position'] == 'RM')].sort_values('beast', ascending=False)[:5]\n",
    "x2 = np.array(list(ss['Name']))\n",
    "y2 = np.array(list(ss['beast']))\n",
    "sns.barplot(x2, y2, palette=sns.diverging_palette(145, 280, s=85, l=25, n=5))\n",
    "plt.ylabel(\"Beast Ratings\")\n",
    "\n",
    "plt.figure(figsize=(15,6))\n",
    " \n",
    "# Generate some sequential data\n",
    "ss = football_data[(football_data['Position'] == 'LCM') | (football_data['Position'] == 'LM')].sort_values('controller', ascending=False)[:5]\n",
    "x1 = np.array(list(ss['Name']))\n",
    "y1 = np.array(list(ss['controller']))\n",
    "sns.barplot(x1, y1, palette=sns.diverging_palette(145, 280, s=85, l=25, n=5))\n",
    "plt.ylabel(\"Controller Ratings\")\n",
    "print(\"Top 5 midfeilders:\")"
   ]
  },
  {
   "cell_type": "code",
   "execution_count": 21,
   "metadata": {},
   "outputs": [
    {
     "data": {
      "text/html": [
       "<div>\n",
       "<style scoped>\n",
       "    .dataframe tbody tr th:only-of-type {\n",
       "        vertical-align: middle;\n",
       "    }\n",
       "\n",
       "    .dataframe tbody tr th {\n",
       "        vertical-align: top;\n",
       "    }\n",
       "\n",
       "    .dataframe thead th {\n",
       "        text-align: right;\n",
       "    }\n",
       "</style>\n",
       "<table border=\"1\" class=\"dataframe\">\n",
       "  <thead>\n",
       "    <tr style=\"text-align: right;\">\n",
       "      <th></th>\n",
       "      <th>Observations</th>\n",
       "      <th>In %</th>\n",
       "    </tr>\n",
       "    <tr>\n",
       "      <th>Preferred Foot</th>\n",
       "      <th></th>\n",
       "      <th></th>\n",
       "    </tr>\n",
       "  </thead>\n",
       "  <tbody>\n",
       "    <tr>\n",
       "      <td>Right</td>\n",
       "      <td>12831</td>\n",
       "      <td>77.04</td>\n",
       "    </tr>\n",
       "    <tr>\n",
       "      <td>Left</td>\n",
       "      <td>3823</td>\n",
       "      <td>22.96</td>\n",
       "    </tr>\n",
       "  </tbody>\n",
       "</table>\n",
       "</div>"
      ],
      "text/plain": [
       "                Observations   In %\n",
       "Preferred Foot                     \n",
       "Right                  12831  77.04\n",
       "Left                    3823  22.96"
      ]
     },
     "execution_count": 21,
     "metadata": {},
     "output_type": "execute_result"
    }
   ],
   "source": [
    "#Training dataset\n",
    "s1=football_data['Preferred Foot'].value_counts()\n",
    "s2=football_data['Preferred Foot'].value_counts(normalize = True) *100\n",
    "dfc = pd.concat([s1.rename(\"Observations\"), s2.rename(\"In %\")], axis=1)\n",
    "dfc['In %'] = dfc['In %'].round(2)\n",
    "dfc.index.name = 'Preferred Foot'\n",
    "dfc"
   ]
  },
  {
   "cell_type": "code",
   "execution_count": 22,
   "metadata": {},
   "outputs": [
    {
     "data": {
      "text/html": [
       "<div>\n",
       "<style scoped>\n",
       "    .dataframe tbody tr th:only-of-type {\n",
       "        vertical-align: middle;\n",
       "    }\n",
       "\n",
       "    .dataframe tbody tr th {\n",
       "        vertical-align: top;\n",
       "    }\n",
       "\n",
       "    .dataframe thead th {\n",
       "        text-align: right;\n",
       "    }\n",
       "</style>\n",
       "<table border=\"1\" class=\"dataframe\">\n",
       "  <thead>\n",
       "    <tr style=\"text-align: right;\">\n",
       "      <th>Preferred Foot</th>\n",
       "      <th>Left</th>\n",
       "      <th>Right</th>\n",
       "      <th>All</th>\n",
       "    </tr>\n",
       "    <tr>\n",
       "      <th>Name</th>\n",
       "      <th></th>\n",
       "      <th></th>\n",
       "      <th></th>\n",
       "    </tr>\n",
       "  </thead>\n",
       "  <tbody>\n",
       "    <tr>\n",
       "      <td>A. Abang</td>\n",
       "      <td>0.00</td>\n",
       "      <td>0.01</td>\n",
       "      <td>0.01</td>\n",
       "    </tr>\n",
       "    <tr>\n",
       "      <td>A. Abdellaoui</td>\n",
       "      <td>0.01</td>\n",
       "      <td>0.00</td>\n",
       "      <td>0.01</td>\n",
       "    </tr>\n",
       "    <tr>\n",
       "      <td>A. Abdi</td>\n",
       "      <td>0.00</td>\n",
       "      <td>0.01</td>\n",
       "      <td>0.01</td>\n",
       "    </tr>\n",
       "    <tr>\n",
       "      <td>A. Abdu Jaber</td>\n",
       "      <td>0.00</td>\n",
       "      <td>0.01</td>\n",
       "      <td>0.01</td>\n",
       "    </tr>\n",
       "    <tr>\n",
       "      <td>A. Abdulhameed</td>\n",
       "      <td>0.01</td>\n",
       "      <td>0.00</td>\n",
       "      <td>0.01</td>\n",
       "    </tr>\n",
       "    <tr>\n",
       "      <td>...</td>\n",
       "      <td>...</td>\n",
       "      <td>...</td>\n",
       "      <td>...</td>\n",
       "    </tr>\n",
       "    <tr>\n",
       "      <td>Óscar Pinchi</td>\n",
       "      <td>0.00</td>\n",
       "      <td>0.01</td>\n",
       "      <td>0.01</td>\n",
       "    </tr>\n",
       "    <tr>\n",
       "      <td>Óscar Plano</td>\n",
       "      <td>0.01</td>\n",
       "      <td>0.00</td>\n",
       "      <td>0.01</td>\n",
       "    </tr>\n",
       "    <tr>\n",
       "      <td>Óscar Valentín</td>\n",
       "      <td>0.00</td>\n",
       "      <td>0.01</td>\n",
       "      <td>0.01</td>\n",
       "    </tr>\n",
       "    <tr>\n",
       "      <td>Óscar Whalley</td>\n",
       "      <td>0.01</td>\n",
       "      <td>0.00</td>\n",
       "      <td>0.01</td>\n",
       "    </tr>\n",
       "    <tr>\n",
       "      <td>All</td>\n",
       "      <td>22.96</td>\n",
       "      <td>77.04</td>\n",
       "      <td>100.00</td>\n",
       "    </tr>\n",
       "  </tbody>\n",
       "</table>\n",
       "<p>15785 rows × 3 columns</p>\n",
       "</div>"
      ],
      "text/plain": [
       "Preferred Foot   Left  Right     All\n",
       "Name                                \n",
       "A. Abang         0.00   0.01    0.01\n",
       "A. Abdellaoui    0.01   0.00    0.01\n",
       "A. Abdi          0.00   0.01    0.01\n",
       "A. Abdu Jaber    0.00   0.01    0.01\n",
       "A. Abdulhameed   0.01   0.00    0.01\n",
       "...               ...    ...     ...\n",
       "Óscar Pinchi     0.00   0.01    0.01\n",
       "Óscar Plano      0.01   0.00    0.01\n",
       "Óscar Valentín   0.00   0.01    0.01\n",
       "Óscar Whalley    0.01   0.00    0.01\n",
       "All             22.96  77.04  100.00\n",
       "\n",
       "[15785 rows x 3 columns]"
      ]
     },
     "execution_count": 22,
     "metadata": {},
     "output_type": "execute_result"
    }
   ],
   "source": [
    "pd.crosstab(football_data['Name'],football_data['Preferred Foot'],margins=True, normalize=True).round(4)*100\n"
   ]
  },
  {
   "cell_type": "code",
   "execution_count": 23,
   "metadata": {},
   "outputs": [
    {
     "name": "stderr",
     "output_type": "stream",
     "text": [
      "Using TensorFlow backend.\n"
     ]
    }
   ],
   "source": [
    "from sklearn.preprocessing import MinMaxScaler\n",
    "from sklearn.preprocessing import LabelEncoder\n",
    "from sklearn.metrics import mean_squared_error\n",
    "from keras.models import Sequential\n",
    "from keras.layers import Dropout, Activation, Dense , LSTM, Flatten ,TimeDistributed\n",
    "from keras.layers.convolutional import Conv1D , MaxPooling1D\n",
    "from sklearn.model_selection import train_test_split\n",
    "from sklearn.model_selection import cross_val_score\n",
    "from sklearn.model_selection import GridSearchCV"
   ]
  },
  {
   "cell_type": "code",
   "execution_count": 24,
   "metadata": {},
   "outputs": [],
   "source": [
    "football_data.drop(\"Photo\",axis=1,inplace=True)"
   ]
  },
  {
   "cell_type": "code",
   "execution_count": 25,
   "metadata": {},
   "outputs": [],
   "source": [
    "football_data.drop(\"Wage\",axis=1,inplace=True)\n",
    "football_data.drop(\"Value\",axis=1,inplace=True)\n",
    "football_data.drop(\"Preferred Foot\",axis=1,inplace=True)\n",
    "football_data.drop(\"Joined\",axis=1,inplace=True)\n",
    "football_data.drop(\"Height\",axis=1,inplace=True)\n",
    "football_data.drop(\"Weight\",axis=1,inplace=True)"
   ]
  },
  {
   "cell_type": "code",
   "execution_count": 26,
   "metadata": {},
   "outputs": [
    {
     "data": {
      "text/html": [
       "<div>\n",
       "<style scoped>\n",
       "    .dataframe tbody tr th:only-of-type {\n",
       "        vertical-align: middle;\n",
       "    }\n",
       "\n",
       "    .dataframe tbody tr th {\n",
       "        vertical-align: top;\n",
       "    }\n",
       "\n",
       "    .dataframe thead th {\n",
       "        text-align: right;\n",
       "    }\n",
       "</style>\n",
       "<table border=\"1\" class=\"dataframe\">\n",
       "  <thead>\n",
       "    <tr style=\"text-align: right;\">\n",
       "      <th></th>\n",
       "      <th>Unnamed: 0</th>\n",
       "      <th>ID</th>\n",
       "      <th>Name</th>\n",
       "      <th>Age</th>\n",
       "      <th>Nationality</th>\n",
       "      <th>Club</th>\n",
       "      <th>Position</th>\n",
       "      <th>Jersey Number</th>\n",
       "      <th>Contract Valid Until</th>\n",
       "      <th>ShortPassing</th>\n",
       "      <th>...</th>\n",
       "      <th>Shot_Stopper</th>\n",
       "      <th>Sweeper</th>\n",
       "      <th>centre_backs</th>\n",
       "      <th>Wing_Backs</th>\n",
       "      <th>left_wing</th>\n",
       "      <th>right_wing</th>\n",
       "      <th>striker</th>\n",
       "      <th>playmaker</th>\n",
       "      <th>beast</th>\n",
       "      <th>controller</th>\n",
       "    </tr>\n",
       "  </thead>\n",
       "  <tbody>\n",
       "    <tr>\n",
       "      <td>0</td>\n",
       "      <td>0</td>\n",
       "      <td>158023</td>\n",
       "      <td>L. Messi</td>\n",
       "      <td>31</td>\n",
       "      <td>Argentina</td>\n",
       "      <td>FC Barcelona</td>\n",
       "      <td>RF</td>\n",
       "      <td>10.0</td>\n",
       "      <td>2021</td>\n",
       "      <td>90.0</td>\n",
       "      <td>...</td>\n",
       "      <td>39.400000</td>\n",
       "      <td>52.722222</td>\n",
       "      <td>68.938776</td>\n",
       "      <td>77.228571</td>\n",
       "      <td>89.117647</td>\n",
       "      <td>103.904762</td>\n",
       "      <td>85.454545</td>\n",
       "      <td>92.823529</td>\n",
       "      <td>76.212766</td>\n",
       "      <td>77.888889</td>\n",
       "    </tr>\n",
       "    <tr>\n",
       "      <td>1</td>\n",
       "      <td>1</td>\n",
       "      <td>20801</td>\n",
       "      <td>Cristiano Ronaldo</td>\n",
       "      <td>33</td>\n",
       "      <td>Portugal</td>\n",
       "      <td>Juventus</td>\n",
       "      <td>ST</td>\n",
       "      <td>7.0</td>\n",
       "      <td>2022</td>\n",
       "      <td>81.0</td>\n",
       "      <td>...</td>\n",
       "      <td>49.266667</td>\n",
       "      <td>53.111111</td>\n",
       "      <td>75.816327</td>\n",
       "      <td>75.514286</td>\n",
       "      <td>82.647059</td>\n",
       "      <td>98.476190</td>\n",
       "      <td>84.681818</td>\n",
       "      <td>81.529412</td>\n",
       "      <td>79.085106</td>\n",
       "      <td>66.370370</td>\n",
       "    </tr>\n",
       "    <tr>\n",
       "      <td>2</td>\n",
       "      <td>2</td>\n",
       "      <td>190871</td>\n",
       "      <td>Neymar Jr</td>\n",
       "      <td>26</td>\n",
       "      <td>Brazil</td>\n",
       "      <td>Paris Saint-Germain</td>\n",
       "      <td>LW</td>\n",
       "      <td>10.0</td>\n",
       "      <td>2022</td>\n",
       "      <td>84.0</td>\n",
       "      <td>...</td>\n",
       "      <td>37.666667</td>\n",
       "      <td>50.222222</td>\n",
       "      <td>69.836735</td>\n",
       "      <td>76.114286</td>\n",
       "      <td>85.647059</td>\n",
       "      <td>100.238095</td>\n",
       "      <td>81.954545</td>\n",
       "      <td>85.823529</td>\n",
       "      <td>76.468085</td>\n",
       "      <td>71.037037</td>\n",
       "    </tr>\n",
       "    <tr>\n",
       "      <td>3</td>\n",
       "      <td>3</td>\n",
       "      <td>193080</td>\n",
       "      <td>De Gea</td>\n",
       "      <td>27</td>\n",
       "      <td>Spain</td>\n",
       "      <td>Manchester United</td>\n",
       "      <td>GK</td>\n",
       "      <td>1.0</td>\n",
       "      <td>2020</td>\n",
       "      <td>50.0</td>\n",
       "      <td>...</td>\n",
       "      <td>83.066667</td>\n",
       "      <td>78.944444</td>\n",
       "      <td>50.734694</td>\n",
       "      <td>48.857143</td>\n",
       "      <td>48.176471</td>\n",
       "      <td>58.428571</td>\n",
       "      <td>43.545455</td>\n",
       "      <td>53.235294</td>\n",
       "      <td>54.468085</td>\n",
       "      <td>45.407407</td>\n",
       "    </tr>\n",
       "    <tr>\n",
       "      <td>4</td>\n",
       "      <td>4</td>\n",
       "      <td>192985</td>\n",
       "      <td>K. De Bruyne</td>\n",
       "      <td>27</td>\n",
       "      <td>Belgium</td>\n",
       "      <td>Manchester City</td>\n",
       "      <td>RCM</td>\n",
       "      <td>7.0</td>\n",
       "      <td>2023</td>\n",
       "      <td>92.0</td>\n",
       "      <td>...</td>\n",
       "      <td>40.866667</td>\n",
       "      <td>53.944444</td>\n",
       "      <td>76.979592</td>\n",
       "      <td>79.685714</td>\n",
       "      <td>83.823529</td>\n",
       "      <td>98.190476</td>\n",
       "      <td>80.863636</td>\n",
       "      <td>88.294118</td>\n",
       "      <td>80.340426</td>\n",
       "      <td>75.074074</td>\n",
       "    </tr>\n",
       "  </tbody>\n",
       "</table>\n",
       "<p>5 rows × 40 columns</p>\n",
       "</div>"
      ],
      "text/plain": [
       "   Unnamed: 0      ID               Name  Age Nationality  \\\n",
       "0           0  158023           L. Messi   31   Argentina   \n",
       "1           1   20801  Cristiano Ronaldo   33    Portugal   \n",
       "2           2  190871          Neymar Jr   26      Brazil   \n",
       "3           3  193080             De Gea   27       Spain   \n",
       "4           4  192985       K. De Bruyne   27     Belgium   \n",
       "\n",
       "                  Club Position  Jersey Number Contract Valid Until  \\\n",
       "0         FC Barcelona       RF           10.0                 2021   \n",
       "1             Juventus       ST            7.0                 2022   \n",
       "2  Paris Saint-Germain       LW           10.0                 2022   \n",
       "3    Manchester United       GK            1.0                 2020   \n",
       "4      Manchester City      RCM            7.0                 2023   \n",
       "\n",
       "   ShortPassing  ...  Shot_Stopper    Sweeper  centre_backs  Wing_Backs  \\\n",
       "0          90.0  ...     39.400000  52.722222     68.938776   77.228571   \n",
       "1          81.0  ...     49.266667  53.111111     75.816327   75.514286   \n",
       "2          84.0  ...     37.666667  50.222222     69.836735   76.114286   \n",
       "3          50.0  ...     83.066667  78.944444     50.734694   48.857143   \n",
       "4          92.0  ...     40.866667  53.944444     76.979592   79.685714   \n",
       "\n",
       "   left_wing  right_wing    striker  playmaker      beast  controller  \n",
       "0  89.117647  103.904762  85.454545  92.823529  76.212766   77.888889  \n",
       "1  82.647059   98.476190  84.681818  81.529412  79.085106   66.370370  \n",
       "2  85.647059  100.238095  81.954545  85.823529  76.468085   71.037037  \n",
       "3  48.176471   58.428571  43.545455  53.235294  54.468085   45.407407  \n",
       "4  83.823529   98.190476  80.863636  88.294118  80.340426   75.074074  \n",
       "\n",
       "[5 rows x 40 columns]"
      ]
     },
     "execution_count": 26,
     "metadata": {},
     "output_type": "execute_result"
    }
   ],
   "source": [
    "football_data.head(5)"
   ]
  },
  {
   "cell_type": "code",
   "execution_count": 27,
   "metadata": {},
   "outputs": [],
   "source": [
    "# #Importing team formation algorithm.\n",
    "# from team_formation import *\n",
    "\n",
    "def scale_data_toLSTM(X ,Y):\n",
    "    # load dataset\n",
    "    X =  pd.DataFrame(X)\n",
    "    Y = pd.DataFrame(Y)\n",
    "    values = X.values\n",
    "\n",
    "    # integer encode direction\n",
    "    # encoder = LabelEncoder() #Label encoding (one-hot) for player position at column no.= 9\n",
    "    # values[:,position_col] = encoder.fit_transform(values[:,position_col])\n",
    "\n",
    "    # ensure all data is float\n",
    "    values = values.astype('float32')\n",
    "    # normalize features\n",
    "    scaler = MinMaxScaler(feature_range=(0, 1))\n",
    "    X_scaled = scaler.fit_transform(values)\n",
    "    Y_scaled = scaler.fit_transform(Y.values)\n",
    "    \n",
    "    # reshape input to be 4D [samples, subsequences, timesteps, features] and target data to be [samples,]\n",
    "    X_scaled = X_scaled.reshape(X_scaled.shape[0],1,1,X_scaled.shape[1])\n",
    "    Y_scaled = Y_scaled.reshape((Y_scaled.shape[0],))\n",
    "    \n",
    "    return (X_scaled , Y_scaled, scaler)"
   ]
  },
  {
   "cell_type": "code",
   "execution_count": 28,
   "metadata": {},
   "outputs": [],
   "source": [
    "#Split Training & Testing Set\n",
    "data_refined = football_data.loc[:,[i for i in list(football_data.columns) if i not in ['ID', 'Name', 'Club', 'Nationality']]]\n",
    "#one-hot encoding for player position\n",
    "data_refined = pd.get_dummies(data_refined, columns = ['Position', 'Jersey Number'], drop_first=True)\n",
    "X_train, X_test, Y_train, Y_test = train_test_split(data_refined.loc[:, data_refined.columns != 'Balance'], data_refined['Balance'], test_size=0.2, random_state=0)\n",
    "\n",
    "\n",
    "test_X , test_y,scaler = scale_data_toLSTM(X_test, Y_test )\n",
    "train_X , train_y,scaler = scale_data_toLSTM(X_train, Y_train)"
   ]
  },
  {
   "cell_type": "code",
   "execution_count": 31,
   "metadata": {},
   "outputs": [
    {
     "name": "stdout",
     "output_type": "stream",
     "text": [
      "Model: \"sequential_2\"\n",
      "_________________________________________________________________\n",
      "Layer (type)                 Output Shape              Param #   \n",
      "=================================================================\n",
      "time_distributed_4 (TimeDist (None, 1, 1, 10)          1580      \n",
      "_________________________________________________________________\n",
      "time_distributed_5 (TimeDist (None, 1, 1, 10)          0         \n",
      "_________________________________________________________________\n",
      "time_distributed_6 (TimeDist (None, 1, 10)             0         \n",
      "_________________________________________________________________\n",
      "lstm_2 (LSTM)                (None, 10)                840       \n",
      "_________________________________________________________________\n",
      "dense_2 (Dense)              (None, 1)                 11        \n",
      "=================================================================\n",
      "Total params: 2,431\n",
      "Trainable params: 2,431\n",
      "Non-trainable params: 0\n",
      "_________________________________________________________________\n"
     ]
    }
   ],
   "source": [
    "\n",
    "# define model\n",
    "model = Sequential()\n",
    "model.add(TimeDistributed(Conv1D(filters=10, kernel_size=1, activation='relu'), input_shape=(1, 1, 157)))\n",
    "model.add(TimeDistributed(MaxPooling1D(pool_size=1)))\n",
    "model.add(TimeDistributed(Flatten()))\n",
    "model.add(LSTM(10))\n",
    "model.add(Dense(1))\n",
    "model.compile(optimizer='adam', loss='mse')\n",
    "model.summary()\n",
    "\n",
    "\n",
    "NO_BATCH_SIZE = 100 \n",
    "NO_EPOCHS = 30"
   ]
  },
  {
   "cell_type": "code",
   "execution_count": 32,
   "metadata": {},
   "outputs": [
    {
     "name": "stdout",
     "output_type": "stream",
     "text": [
      "Train on 13323 samples, validate on 3331 samples\n",
      "Epoch 1/30\n",
      "13323/13323 [==============================] - 4s 276us/step - loss: 0.0559 - val_loss: 0.0195\n",
      "Epoch 2/30\n",
      "13323/13323 [==============================] - 0s 32us/step - loss: 0.0152 - val_loss: 0.0160\n",
      "Epoch 3/30\n",
      "13323/13323 [==============================] - 0s 32us/step - loss: 0.0128 - val_loss: 0.0144\n",
      "Epoch 4/30\n",
      "13323/13323 [==============================] - 0s 33us/step - loss: 0.0105 - val_loss: 0.0110\n",
      "Epoch 5/30\n",
      "13323/13323 [==============================] - 0s 35us/step - loss: 0.0081 - val_loss: 0.0085\n",
      "Epoch 6/30\n",
      "13323/13323 [==============================] - 0s 32us/step - loss: 0.0072 - val_loss: 0.0081\n",
      "Epoch 7/30\n",
      "13323/13323 [==============================] - 0s 32us/step - loss: 0.0066 - val_loss: 0.0074\n",
      "Epoch 8/30\n",
      "13323/13323 [==============================] - 0s 32us/step - loss: 0.0061 - val_loss: 0.0071\n",
      "Epoch 9/30\n",
      "13323/13323 [==============================] - 0s 32us/step - loss: 0.0055 - val_loss: 0.0070\n",
      "Epoch 10/30\n",
      "13323/13323 [==============================] - 0s 32us/step - loss: 0.0050 - val_loss: 0.0054\n",
      "Epoch 11/30\n",
      "13323/13323 [==============================] - 0s 32us/step - loss: 0.0044 - val_loss: 0.0054\n",
      "Epoch 12/30\n",
      "13323/13323 [==============================] - 0s 32us/step - loss: 0.0037 - val_loss: 0.0052\n",
      "Epoch 13/30\n",
      "13323/13323 [==============================] - 0s 32us/step - loss: 0.0029 - val_loss: 0.0081\n",
      "Epoch 14/30\n",
      "13323/13323 [==============================] - 0s 32us/step - loss: 0.0021 - val_loss: 0.0067\n",
      "Epoch 15/30\n",
      "13323/13323 [==============================] - 0s 32us/step - loss: 0.0014 - val_loss: 0.0095\n",
      "Epoch 16/30\n",
      "13323/13323 [==============================] - 0s 32us/step - loss: 7.3826e-04 - val_loss: 0.0126\n",
      "Epoch 17/30\n",
      "13323/13323 [==============================] - 0s 32us/step - loss: 4.1766e-04 - val_loss: 0.0142\n",
      "Epoch 18/30\n",
      "13323/13323 [==============================] - 0s 33us/step - loss: 2.2637e-04 - val_loss: 0.0156\n",
      "Epoch 19/30\n",
      "13323/13323 [==============================] - 0s 32us/step - loss: 1.3205e-04 - val_loss: 0.0164\n",
      "Epoch 20/30\n",
      "13323/13323 [==============================] - 0s 35us/step - loss: 9.1379e-05 - val_loss: 0.0175\n",
      "Epoch 21/30\n",
      "13323/13323 [==============================] - 0s 34us/step - loss: 6.2151e-05 - val_loss: 0.0185\n",
      "Epoch 22/30\n",
      "13323/13323 [==============================] - 0s 35us/step - loss: 5.9263e-05 - val_loss: 0.0155\n",
      "Epoch 23/30\n",
      "13323/13323 [==============================] - 0s 32us/step - loss: 4.7445e-05 - val_loss: 0.0189\n",
      "Epoch 24/30\n",
      "13323/13323 [==============================] - 0s 35us/step - loss: 3.9309e-05 - val_loss: 0.0175\n",
      "Epoch 25/30\n",
      "13323/13323 [==============================] - 0s 32us/step - loss: 4.2098e-05 - val_loss: 0.0172\n",
      "Epoch 26/30\n",
      "13323/13323 [==============================] - 0s 32us/step - loss: 3.5248e-05 - val_loss: 0.0162\n",
      "Epoch 27/30\n",
      "13323/13323 [==============================] - 0s 32us/step - loss: 4.3635e-05 - val_loss: 0.0190\n",
      "Epoch 28/30\n",
      "13323/13323 [==============================] - 0s 32us/step - loss: 3.2293e-05 - val_loss: 0.0172\n",
      "Epoch 29/30\n",
      "13323/13323 [==============================] - 0s 32us/step - loss: 2.5688e-05 - val_loss: 0.0170\n",
      "Epoch 30/30\n",
      "13323/13323 [==============================] - 0s 33us/step - loss: 3.1016e-05 - val_loss: 0.0173\n"
     ]
    }
   ],
   "source": [
    "# fit model\n",
    "history = model.fit(train_X, train_y, epochs=NO_EPOCHS, verbose=1, batch_size=NO_BATCH_SIZE,\n",
    "                    validation_data=(test_X, test_y))"
   ]
  },
  {
   "cell_type": "code",
   "execution_count": 34,
   "metadata": {},
   "outputs": [
    {
     "data": {
      "image/png": "[encoded data removed]",
      "text/plain": [
       "<Figure size 432x288 with 1 Axes>"
      ]
     },
     "metadata": {
      "needs_background": "light"
     },
     "output_type": "display_data"
    },
    {
     "name": "stdout",
     "output_type": "stream",
     "text": [
      "Test MSE: 110.985\n"
     ]
    }
   ],
   "source": [
    "from matplotlib import pyplot\n",
    "# plot history\n",
    "pyplot.plot(history.history['loss'], label='train')\n",
    "pyplot.plot(history.history['val_loss'], label='test')\n",
    "pyplot.legend()\n",
    "pyplot.xlabel('# of epoch')\n",
    "pyplot.ylabel('Loss')\n",
    "pyplot.title(\"CNN-LSTM Model Training Curve\")\n",
    "pyplot.show()\n",
    "\n",
    "test_X , test_y,scaler = scale_data_toLSTM(X_test, Y_test )\n",
    "train_X , train_y,scaler = scale_data_toLSTM(X_train, Y_train)\n",
    "\n",
    "\n",
    "yhat = model.predict(test_X)\n",
    "test_X = test_X.reshape(((test_X.shape[0],test_X.shape[3])))\n",
    "\n",
    "# invert scaling for forecast\n",
    "inv_yhat = np.concatenate((yhat, test_X[:, 1:]), axis=1)\n",
    "inv_yhat = scaler.inverse_transform(inv_yhat)\n",
    "inv_yhat = inv_yhat[:,0]\n",
    "# invert scaling for actual\n",
    "test_y = test_y.reshape((len(test_y), 1))\n",
    "inv_y = np.concatenate((test_y, test_X[:, 1:]), axis=1)\n",
    "inv_y = scaler.inverse_transform(inv_y)\n",
    "inv_y = inv_y[:,0]\n",
    "# calculate RMSE\n",
    "mse = mean_squared_error(inv_y, inv_yhat)\n",
    "print('Test MSE: %.3f' % mse)"
   ]
  },
  {
   "cell_type": "code",
   "execution_count": null,
   "metadata": {},
   "outputs": [],
   "source": []
  }
 ],
 "metadata": {
  "kernelspec": {
   "display_name": "Python 3",
   "language": "python",
   "name": "python3"
  },
  "language_info": {
   "codemirror_mode": {
    "name": "ipython",
    "version": 3
   },
   "file_extension": ".py",
   "mimetype": "text/x-python",
   "name": "python",
   "nbconvert_exporter": "python",
   "pygments_lexer": "ipython3",
   "version": "3.7.4"
  }
 },
 "nbformat": 4,
 "nbformat_minor": 2
}
